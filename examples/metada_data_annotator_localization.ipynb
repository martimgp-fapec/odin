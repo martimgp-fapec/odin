{
 "cells": [
  {
   "cell_type": "code",
   "execution_count": null,
   "metadata": {
    "pycharm": {
     "name": "#%%\n"
    },
    "scrolled": false
   },
   "outputs": [],
   "source": [
    "import sys\n",
    "sys.path.insert(0, \"../\")\n",
    "import os\n",
    "from odin.classes import DatasetLocalization, TaskType\n",
    "from odin.annotator import  AnnotatorLocalization, MetaPropertiesType\n",
    "\n",
    "\n",
    "dataset_gt_param = \"../test-data/annotator_example/artdl_bbox.json\"\n",
    "images_path = \"../test-data/annotator_example/images/\"\n",
    "\n",
    "task_type = TaskType.OBJECT_DETECTION\n",
    "\n",
    "my_dataset = DatasetLocalization(dataset_gt_param,task_type, \n",
    "                          images_abs_path=images_path, for_analysis=False)"
   ]
  },
  {
   "cell_type": "code",
   "execution_count": null,
   "metadata": {
    "pycharm": {
     "name": "#%%\n"
    },
    "scrolled": false
   },
   "outputs": [],
   "source": [
    "properties = {\"fullbody\": (MetaPropertiesType.UNIQUE, [\"Yes\", \"No\"]),\n",
    "             \"difficult\": (MetaPropertiesType.UNIQUE, [\"Yes\", \"No\"])}\n",
    "\n",
    "def validate_function(img_record):\n",
    "    return 'difficult' in img_record and 'fullbody' in img_record\n",
    "    \n",
    "my_annotator = AnnotatorLocalization(my_dataset, properties,validate_function=validate_function)\n",
    "my_annotator.start_annotation()"
   ]
  },
  {
   "cell_type": "code",
   "execution_count": null,
   "metadata": {},
   "outputs": [],
   "source": [
    "my_annotator.print_statistics()"
   ]
  },
  {
   "cell_type": "code",
   "execution_count": null,
   "metadata": {},
   "outputs": [],
   "source": [
    "my_annotator.print_results()"
   ]
  },
  {
   "cell_type": "code",
   "execution_count": null,
   "metadata": {},
   "outputs": [],
   "source": []
  }
 ],
 "metadata": {
  "kernelspec": {
   "display_name": "Python 3",
   "language": "python",
   "name": "python3"
  },
  "language_info": {
   "codemirror_mode": {
    "name": "ipython",
    "version": 3
   },
   "file_extension": ".py",
   "mimetype": "text/x-python",
   "name": "python",
   "nbconvert_exporter": "python",
   "pygments_lexer": "ipython3",
   "version": "3.8.5"
  }
 },
 "nbformat": 4,
 "nbformat_minor": 4
}
