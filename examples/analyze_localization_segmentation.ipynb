{
 "cells": [
  {
   "cell_type": "code",
   "execution_count": null,
   "metadata": {
    "scrolled": true
   },
   "outputs": [],
   "source": [
    "import sys\n",
    "sys.path.insert(0, '../')\n",
    "from odin.classes import *\n",
    "\n",
    "\n",
    "dataset_gt_param = \"../test-data/localization/gt.json\"\n",
    "path_to_detections = \"../test-data/localization/predictions-segmentation/\"\n",
    "\n",
    "\n",
    "task_type = TaskType.INSTANCE_SEGMENTATION\n",
    "\n",
    "\n",
    "my_dataset = DatasetLocalization(dataset_gt_param, task_type, proposal_path=path_to_detections, images_set_name='test',\n",
    "                 images_abs_path=None, similar_classes=None, property_names=None, terminal_env=False,\n",
    "                 properties_file=None, for_analysis=True)"
   ]
  },
  {
   "cell_type": "code",
   "execution_count": null,
   "metadata": {
    "pycharm": {
     "name": "#%%\n"
    }
   },
   "outputs": [],
   "source": [
    "# use_normalization: default=True\n",
    "# conf_threshold: default=0.5\n",
    "# iou: default=0.5\n",
    "# metric: default='average_precision_score'\n",
    "\n",
    "my_analyzer = AnalyzerLocalization('Test',  my_dataset, use_normalization=True,\n",
    "                 norm_factor_categories=0.3, norm_factors_properties=None, iou=None, conf_thresh=None, metric='average_precision_interpolated',\n",
    "                                   save_graphs_as_png=False)"
   ]
  },
  {
   "cell_type": "code",
   "execution_count": null,
   "metadata": {},
   "outputs": [],
   "source": [
    "# help(my_analyzer.set_nomalization)\n",
    "my_analyzer.set_normalization(True, with_properties=False)"
   ]
  },
  {
   "cell_type": "code",
   "execution_count": null,
   "metadata": {
    "pycharm": {
     "name": "#%%\n"
    }
   },
   "outputs": [],
   "source": [
    "# help(my_analyzer.set_confidence_threshold)\n",
    "# my_analyzer.set_confidence_threshold(0.5)"
   ]
  },
  {
   "cell_type": "code",
   "execution_count": null,
   "metadata": {},
   "outputs": [],
   "source": [
    "my_analyzer.show_distribution_of_properties()"
   ]
  },
  {
   "cell_type": "code",
   "execution_count": null,
   "metadata": {
    "scrolled": true
   },
   "outputs": [],
   "source": [
    "# property_name: name of the property for the analysis\n",
    "# show_distribution_of_property(property_name)\n",
    "\n",
    "my_analyzer.show_distribution_of_property(property_name='propulsion')"
   ]
  },
  {
   "cell_type": "code",
   "execution_count": null,
   "metadata": {},
   "outputs": [],
   "source": [
    "# properties: list of properties to include in the analysis. If None, include all properties\n",
    "# metric: if None use the one specified in the ClassificationAnalyzer\n",
    "\n",
    "# analyze_properties(properties=None, metric=None)\n",
    "\n",
    "my_analyzer.analyze_properties(properties=['weather'])"
   ]
  },
  {
   "cell_type": "code",
   "execution_count": null,
   "metadata": {
    "pycharm": {
     "name": "#%%\n"
    }
   },
   "outputs": [],
   "source": [
    "# property_name: name of the property to analyze\n",
    "# possible_values: list of the property values to include in the analysis\n",
    "# labels: list of the names of the properties to show. If None, show the default names\n",
    "# show: boolean, if True, show the plot\n",
    "# metric: if None use the one specified in the ClassificationAnalyzer\n",
    "\n",
    "# analyze_property(property_name, possible_values, labels=None, show=True, metric=None)\n",
    "\n",
    "my_analyzer.analyze_property(\"weather\", [\"Snow\", \"Clear Skies\"])"
   ]
  },
  {
   "cell_type": "code",
   "execution_count": null,
   "metadata": {
    "pycharm": {
     "name": "#%%\n"
    }
   },
   "outputs": [],
   "source": [
    "# properties: list of properties to include in the analysis. If None include all.\n",
    "# metric: if None use the one specified in the ClassificationAnalyzer\n",
    "\n",
    "# analyze_sensitivity_impact_of_properties(properties=None, metric=None)\n",
    "properties_to_analyze = [\"truncated\", \"weather\", \"propulsion\", \"wing_type\", \"num_engines\"]\n",
    "my_analyzer.analyze_sensitivity_impact_of_properties(properties=properties_to_analyze)"
   ]
  },
  {
   "cell_type": "code",
   "execution_count": null,
   "metadata": {
    "pycharm": {
     "name": "#%%\n"
    },
    "scrolled": false
   },
   "outputs": [],
   "source": [
    "# categories: list of categories to include. If None, include all\n",
    "# metric: if None use the one specified in the ClassificationAnalyzer\n",
    "\n",
    "# analyze_false_positive_errors(categories=None, metric=None)\n",
    "\n",
    "my_analyzer.analyze_false_positive_errors()"
   ]
  },
  {
   "cell_type": "code",
   "execution_count": null,
   "metadata": {
    "pycharm": {
     "name": "#%%\n"
    }
   },
   "outputs": [],
   "source": [
    "# categories: list of categories to include. If None, include all\n",
    "\n",
    "# get_fp_error_distribution(categories=None)\n",
    "\n",
    "my_analyzer.get_fp_error_distribution()"
   ]
  },
  {
   "cell_type": "code",
   "execution_count": null,
   "metadata": {},
   "outputs": [],
   "source": [
    "# categories: list of categories to include. If None, include all\n",
    "# my_analyzer.get_tp_distribution(categories=None)\n",
    "\n",
    "my_analyzer.get_tp_distribution()"
   ]
  },
  {
   "cell_type": "code",
   "execution_count": null,
   "metadata": {},
   "outputs": [],
   "source": [
    "# categories: list of categories to include. If None, include all\n",
    "# my_analyzer.get_tn_error_distribution(categories=None)\n",
    "\n",
    "my_analyzer.get_fn_distribution()"
   ]
  },
  {
   "cell_type": "code",
   "execution_count": null,
   "metadata": {
    "pycharm": {
     "name": "#%%\n"
    }
   },
   "outputs": [],
   "source": [
    "# category: category name for the analysis\n",
    "# categories: list of categories to include in the false positive analysis. It must include the 'category' name\n",
    "# metric: if None use the one specified in the ClassificationAnalyzer\n",
    "\n",
    "# analyze_false_positive_error_for_category(category, categories, metric=None).\n",
    "\n",
    "my_analyzer.analyze_false_positive_error_for_category(\"SmallCivilTransportUtility\")"
   ]
  },
  {
   "cell_type": "code",
   "execution_count": null,
   "metadata": {
    "pycharm": {
     "name": "#%%\n"
    }
   },
   "outputs": [],
   "source": [
    "# categories: list of categories to include. If none, include all\n",
    "# curve: name of the curve to plot (precision_recall_curve, f1_curve, roc_curve)\n",
    "\n",
    "# analyze_curve_for_categories(categories=None, curve='precision_recall_curve')\n",
    "\n",
    "my_analyzer.analyze_curve_for_categories()"
   ]
  },
  {
   "cell_type": "code",
   "execution_count": null,
   "metadata": {
    "pycharm": {
     "name": "#%%\n"
    }
   },
   "outputs": [],
   "source": [
    "# metrics: list of metrics to include. If None, include the default\n",
    "# categories: list of categories to include. If none, include all\n",
    "# properties: list of properties to include. If none, include all\n",
    "# show_categories: boolean. If False and categories is None, do not show categories report\n",
    "# show properties: boolean. If False and properties is None, do not show properties report\n",
    "\n",
    "# show_base_report(metrics=None, categories=None, properties=None, show_categories=True,\n",
    "#                  show_properties=True)\n",
    "\n",
    "# returns a Dataframe\n",
    "\n",
    "properties_to_analyze = [\"truncated\", \"weather\", \"propulsion\", \"wing_type\", \"num_engines\"]\n",
    "my_analyzer.base_report(properties=properties_to_analyze)"
   ]
  },
  {
   "cell_type": "markdown",
   "metadata": {},
   "source": [
    "Example of how to define a custom metric"
   ]
  },
  {
   "cell_type": "raw",
   "metadata": {},
   "source": [
    "import random\n",
    "from emd_with_classes.classes import *\n",
    "class MyCustomAnalyzer(AnalyzerNew):\n",
    "\n",
    "\n",
    "    def _evaluation_metric(self, gt, proposals, matching, is_micro_required):\n",
    "        # Returns the desired metric value and the std_devivation (None if it does not apply)\n",
    "\n",
    "        # Parameters:\n",
    "        #   gt: contains the a list of the GT objetcs (image_id, category_id, segmentation/bbox)\n",
    "        #   proposals: contains a list of proposals (image_id, category_id, segemetation/bbox)\n",
    "        \n",
    "        # Returns#\n",
    "        #   metric_value: the calculated value in the set\n",
    "        #   std_deviation: of the metric \n",
    "\n",
    "        #TODO: compute metric...\n",
    "        #metric_value = #...\n",
    "        #std_deviation = # ...\n",
    "        metric_value =random.uniform(0.0, 1.0)\n",
    "        return metric_value, None\n",
    "\n",
    "    # Any other function you want to implement "
   ]
  },
  {
   "cell_type": "code",
   "execution_count": null,
   "metadata": {},
   "outputs": [],
   "source": []
  }
 ],
 "metadata": {
  "kernelspec": {
   "display_name": "Python 3",
   "language": "python",
   "name": "python3"
  },
  "language_info": {
   "codemirror_mode": {
    "name": "ipython",
    "version": 3
   },
   "file_extension": ".py",
   "mimetype": "text/x-python",
   "name": "python",
   "nbconvert_exporter": "python",
   "pygments_lexer": "ipython3",
   "version": "3.8.5"
  }
 },
 "nbformat": 4,
 "nbformat_minor": 4
}
