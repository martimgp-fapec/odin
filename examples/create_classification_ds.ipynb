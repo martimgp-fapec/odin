{
 "cells": [
  {
   "cell_type": "code",
   "execution_count": null,
   "metadata": {},
   "outputs": [],
   "source": [
    "%matplotlib inline\n",
    "images_path = \"../test-data/annotator_example/images\"\n",
    "images_extension = \".jpg\"\n",
    "\n",
    "output_path = \"../test-data/annotator_example/\"\n",
    "\n",
    "classes = [\"Anthony of Padua\",  \"Virgin Mary\", \"Mary Magdalena\", 'John Baptist - Adult', 'Francis of Assisi', 'Paul', 'Peter', \n",
    "           'Jerome', 'Saint Sebastian', 'Saint Dominic']"
   ]
  },
  {
   "cell_type": "markdown",
   "metadata": {},
   "source": [
    "# BASE EXAMPLE"
   ]
  },
  {
   "cell_type": "code",
   "execution_count": null,
   "metadata": {
    "scrolled": false
   },
   "outputs": [],
   "source": [
    "import sys\n",
    "sys.path.insert(0, \"../\")\n",
    "from odin.classes import TaskType\n",
    "from odin.annotator import ImagesLoader, DatasetAnnotatorClassification\n",
    "\n",
    "\n",
    "task_type = TaskType.CLASSIFICATION_MULTI_LABEL\n",
    "output_name = \"artdl_classification\"\n",
    "\n",
    "# This simply generates a list of images paths, could be generated in a different way\n",
    "images = ImagesLoader(images_path, images_extension).get_images_array()"
   ]
  },
  {
   "cell_type": "code",
   "execution_count": null,
   "metadata": {},
   "outputs": [],
   "source": [
    "ds_generator = DatasetAnnotatorClassification(task_type, images, output_path, output_name, classes)"
   ]
  },
  {
   "cell_type": "code",
   "execution_count": null,
   "metadata": {},
   "outputs": [],
   "source": [
    "ds_generator.start_classification()"
   ]
  },
  {
   "cell_type": "code",
   "execution_count": null,
   "metadata": {},
   "outputs": [],
   "source": [
    "ds_generator.print_statistics()"
   ]
  },
  {
   "cell_type": "code",
   "execution_count": null,
   "metadata": {},
   "outputs": [],
   "source": []
  }
 ],
 "metadata": {
  "kernelspec": {
   "display_name": "Python 3",
   "language": "python",
   "name": "python3"
  },
  "language_info": {
   "codemirror_mode": {
    "name": "ipython",
    "version": 3
   },
   "file_extension": ".py",
   "mimetype": "text/x-python",
   "name": "python",
   "nbconvert_exporter": "python",
   "pygments_lexer": "ipython3",
   "version": "3.8.5"
  }
 },
 "nbformat": 4,
 "nbformat_minor": 2
}
