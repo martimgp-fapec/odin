{
 "cells": [
  {
   "cell_type": "code",
   "execution_count": null,
   "metadata": {},
   "outputs": [],
   "source": [
    "import sys\n",
    "sys.path.insert(0, '../')\n",
    "import os\n",
    "import json\n",
    "from odin.classes import DatasetLocalization, VisualizerLocalization, TaskType\n",
    "\n",
    "\n",
    "\n",
    "dataset_gt_param = \"../test-data/localization/gt.json\" # Your file gt file goes here\n",
    "images_path = \"../test-data/localization/PS-RGB_tiled-test/\" # Your images folder goes here\n",
    "\n",
    "task_type = TaskType.INSTANCE_SEGMENTATION\n",
    "\n",
    "my_dataset = DatasetLocalization(dataset_gt_param, task_type, \n",
    "                          images_abs_path=images_path, for_analysis=False)"
   ]
  },
  {
   "cell_type": "code",
   "execution_count": null,
   "metadata": {},
   "outputs": [],
   "source": [
    "visualizer = VisualizerLocalization(my_dataset)\n",
    "#visualizer.visualize_annotations(categories=[\"SmallCivilTransportUtility\"])\n",
    "#visualizer.visualize_annotations_for_property(\"weather\", \"Snow\")\n",
    "# ONLY 3 IMAGES ARE PROVIDED AS EXAMPLE FOR THIS DATASET\n",
    "visualizer.visualize_annotations_for_class_for_property(\"MediumCivilTransportUtility\", \"weather\", \"Snow\")"
   ]
  },
  {
   "cell_type": "code",
   "execution_count": null,
   "metadata": {},
   "outputs": [],
   "source": []
  }
 ],
 "metadata": {
  "kernelspec": {
   "display_name": "Python 3",
   "language": "python",
   "name": "python3"
  },
  "language_info": {
   "codemirror_mode": {
    "name": "ipython",
    "version": 3
   },
   "file_extension": ".py",
   "mimetype": "text/x-python",
   "name": "python",
   "nbconvert_exporter": "python",
   "pygments_lexer": "ipython3",
   "version": "3.8.5"
  }
 },
 "nbformat": 4,
 "nbformat_minor": 4
}
