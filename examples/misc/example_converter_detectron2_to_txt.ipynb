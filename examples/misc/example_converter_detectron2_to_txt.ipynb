{
 "cells": [
  {
   "cell_type": "markdown",
   "id": "2e06e3d6",
   "metadata": {},
   "source": [
    "# Example of conversion from Detectron2 inference json to odin txt format"
   ]
  },
  {
   "cell_type": "markdown",
   "id": "045b5d62",
   "metadata": {},
   "source": [
    "#### package import and variables definition"
   ]
  },
  {
   "cell_type": "code",
   "execution_count": null,
   "id": "4fdfae31",
   "metadata": {},
   "outputs": [],
   "source": [
    "from odin.utils.convertor_detectron_txt import DetectronToTXT\n",
    "\n",
    "# define the path of the GT .json file\n",
    "gt_json = 'test.json'\n",
    "\n",
    "# define the path of the detectron2 inference .json file\n",
    "inference_json = 'coco_instances_results.json'\n",
    "\n",
    "# define the path of the TXTs output folder\n",
    "output_folder = 'output'\n",
    "\n",
    "# define the task: detection or segmentation\n",
    "is_segmentation = False"
   ]
  },
  {
   "cell_type": "markdown",
   "id": "3ef0cab9",
   "metadata": {},
   "source": [
    "### Conversion"
   ]
  },
  {
   "cell_type": "code",
   "execution_count": null,
   "id": "6c695946",
   "metadata": {},
   "outputs": [],
   "source": [
    "# initialize converter\n",
    "det2txt = DetectronToTXT(gt_json,\n",
    "                         inference_json,\n",
    "                         output_folder,\n",
    "                         is_segmentation=is_segmentation)\n",
    "\n",
    "\n",
    "# convert and save TXTs in output folder\n",
    "det2txt.convert_and_save()"
   ]
  }
 ],
 "metadata": {
  "kernelspec": {
   "display_name": "Python 3 (ipykernel)",
   "language": "python",
   "name": "python3"
  },
  "language_info": {
   "codemirror_mode": {
    "name": "ipython",
    "version": 3
   },
   "file_extension": ".py",
   "mimetype": "text/x-python",
   "name": "python",
   "nbconvert_exporter": "python",
   "pygments_lexer": "ipython3",
   "version": "3.8.5"
  }
 },
 "nbformat": 4,
 "nbformat_minor": 5
}
