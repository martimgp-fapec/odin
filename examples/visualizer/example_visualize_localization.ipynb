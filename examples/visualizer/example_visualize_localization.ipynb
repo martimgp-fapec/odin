{
 "cells": [
  {
   "cell_type": "markdown",
   "metadata": {},
   "source": [
    "# Example Visualizer - Localization"
   ]
  },
  {
   "cell_type": "markdown",
   "metadata": {},
   "source": [
    "This notebook contains example of how to use the visualizer in the following three cases:\n",
    "\n",
    "1) **ONLY GT**: Explore the dataset (filtering by class, and/or property values).\n",
    "<br>\n",
    "Requires only the dataset.\n",
    "\n",
    "2) **GT + Proposals**: Explore the dataset (filtering by class, and/or property values) and visualize the model prediction scores at the same time.\n",
    "<br>\n",
    "Requires the dataset and the \"proposals/predictions\".\n",
    "\n",
    "3) **Based on analysis queries**: Same as the previous setting but with filter by additional settings based on the analysis (e.g. true positives, error of similar classes, etc.)\n",
    "<br>\n",
    "Requires the dataset and the \"proposals/predictions\"."
   ]
  },
  {
   "cell_type": "markdown",
   "metadata": {},
   "source": [
    "## 1) Only GT"
   ]
  },
  {
   "cell_type": "markdown",
   "metadata": {},
   "source": [
    "#### package import & variables definition"
   ]
  },
  {
   "cell_type": "code",
   "execution_count": null,
   "metadata": {},
   "outputs": [],
   "source": [
    "from odin.classes import TaskType, DatasetLocalization, VisualizerLocalization\n",
    "\n",
    "\n",
    "dataset_gt_param = \"../../test-data/localization/gt.json\" # Your file gt file goes here\n",
    "images_path = \"../../test-data/localization/PS-RGB_tiled-test/\" # Your images folder goes here\n",
    "\n",
    "task_type = TaskType.INSTANCE_SEGMENTATION"
   ]
  },
  {
   "cell_type": "markdown",
   "metadata": {},
   "source": [
    "#### Dataset"
   ]
  },
  {
   "cell_type": "code",
   "execution_count": null,
   "metadata": {},
   "outputs": [],
   "source": [
    "my_dataset = DatasetLocalization(dataset_gt_param, task_type,\n",
    "                          images_abs_path=images_path, for_analysis=True, save_graphs_as_png=False)"
   ]
  },
  {
   "cell_type": "markdown",
   "metadata": {},
   "source": [
    "### Visualizer"
   ]
  },
  {
   "cell_type": "code",
   "execution_count": null,
   "metadata": {},
   "outputs": [],
   "source": [
    "visualizer = VisualizerLocalization(my_dataset)"
   ]
  },
  {
   "cell_type": "code",
   "execution_count": null,
   "metadata": {},
   "outputs": [],
   "source": [
    "visualizer.visualize_annotations_for_ids(37)\n",
    "\n",
    "# visualizer.visualize_annotations_for_ids([37, 123, 160])"
   ]
  },
  {
   "cell_type": "code",
   "execution_count": null,
   "metadata": {},
   "outputs": [],
   "source": [
    "# visualizer.visualize_annotations(categories=[\"SmallCivilTransportUtility\", \"MediumCivilTransportUtility\"])\n",
    "# visualizer.visualize_annotations_for_property(\"weather\", \"Snow\")\n",
    "# ONLY 3 IMAGES ARE PROVIDED AS EXAMPLE FOR THIS DATASET\n",
    "visualizer.visualize_annotations_for_class_for_property(\"MediumCivilTransportUtility\", \"weather\", \"Snow\")\n"
   ]
  },
  {
   "cell_type": "markdown",
   "metadata": {},
   "source": [
    "## 2) GT + Proposals"
   ]
  },
  {
   "cell_type": "markdown",
   "metadata": {},
   "source": [
    "#### package import & variables definition"
   ]
  },
  {
   "cell_type": "code",
   "execution_count": null,
   "metadata": {
    "scrolled": true
   },
   "outputs": [],
   "source": [
    "from odin.classes import TaskType, DatasetLocalization, VisualizerLocalization\n",
    "\n",
    "\n",
    "dataset_gt_param = \"../../test-data/localization/gt.json\" # Your file gt file goes here\n",
    "images_path = \"../../test-data/localization/PS-RGB_tiled-test/\" # Your images folder goes here\n",
    "\n",
    "path_to_detections = \"../../test-data/localization/predictions-segmentation/\"\n",
    "# path_to_detections = [(\"Model_A\", \"../../test-data/localization/predictions-segmentation/\"),\n",
    "#                      (\"Model_B\", \"../../test-data/localization/predictions-segmentation/\")] # to show also the predictions\n",
    "\n",
    "task_type = TaskType.INSTANCE_SEGMENTATION"
   ]
  },
  {
   "cell_type": "markdown",
   "metadata": {},
   "source": [
    "#### Dataset"
   ]
  },
  {
   "cell_type": "code",
   "execution_count": null,
   "metadata": {},
   "outputs": [],
   "source": [
    "my_dataset = DatasetLocalization(dataset_gt_param, task_type, proposals_paths=path_to_detections,\n",
    "                          images_abs_path=images_path, for_analysis=True, save_graphs_as_png=False)"
   ]
  },
  {
   "cell_type": "markdown",
   "metadata": {},
   "source": [
    "### Visualizer"
   ]
  },
  {
   "cell_type": "code",
   "execution_count": null,
   "metadata": {},
   "outputs": [],
   "source": [
    "visualizer = VisualizerLocalization(my_dataset)"
   ]
  },
  {
   "cell_type": "code",
   "execution_count": null,
   "metadata": {},
   "outputs": [],
   "source": [
    "visualizer.visualize_annotations_for_ids([37, 123, 160], show_predictions=True)"
   ]
  },
  {
   "cell_type": "code",
   "execution_count": null,
   "metadata": {},
   "outputs": [],
   "source": [
    "# visualizer.visualize_annotations(categories=[\"SmallCivilTransportUtility\", \"MediumCivilTransportUtility\"], show_predictions=True)\n",
    "#visualizer.visualize_annotations_for_property(\"weather\", \"Snow\", show_predictions=True)\n",
    "# ONLY 3 IMAGES ARE PROVIDED AS EXAMPLE FOR THIS DATASET\n",
    "visualizer.visualize_annotations_for_class_for_property(\"MediumCivilTransportUtility\", \"weather\", \"Snow\", \n",
    "                                                        show_predictions=True)\n"
   ]
  },
  {
   "cell_type": "markdown",
   "metadata": {},
   "source": [
    "## 3) Based on analysis queries"
   ]
  },
  {
   "cell_type": "markdown",
   "metadata": {},
   "source": [
    "#### package import & variables definition"
   ]
  },
  {
   "cell_type": "code",
   "execution_count": null,
   "metadata": {},
   "outputs": [],
   "source": [
    "from odin.classes import TaskType, ErrorType, DatasetLocalization, AnalyzerLocalization, VisualizerLocalization\n",
    "\n",
    "\n",
    "dataset_gt_param = \"../../test-data/localization/gt.json\" # Your file gt file goes here\n",
    "images_path = \"../../test-data/localization/PS-RGB_tiled-test/\" # Your images folder goes here\n",
    "\n",
    "path_to_detections = \"../../test-data/localization/predictions-segmentation/\"\n",
    "# path_to_detections = [(\"Model_A\", \"../../test-data/localization/predictions-segmentation/\"),\n",
    "#                      (\"Model_B\", \"../../test-data/localization/predictions-segmentation/\")] # to show also the predictions\n",
    "\n",
    "task_type = TaskType.INSTANCE_SEGMENTATION"
   ]
  },
  {
   "cell_type": "markdown",
   "metadata": {},
   "source": [
    "#### Dataset"
   ]
  },
  {
   "cell_type": "code",
   "execution_count": null,
   "metadata": {},
   "outputs": [],
   "source": [
    "my_dataset = DatasetLocalization(dataset_gt_param, task_type, proposals_paths=path_to_detections,\n",
    "                          images_abs_path=images_path, for_analysis=True, save_graphs_as_png=False)"
   ]
  },
  {
   "cell_type": "markdown",
   "metadata": {},
   "source": [
    "#### Analyzer"
   ]
  },
  {
   "cell_type": "code",
   "execution_count": null,
   "metadata": {},
   "outputs": [],
   "source": [
    "analyzer_A = AnalyzerLocalization('Model_A',  my_dataset, save_graphs_as_png=False)\n",
    "# analyzer_B = AnalyzerLocalization('Model_B',  my_dataset, conf_thresh=0.9, save_graphs_as_png=False)"
   ]
  },
  {
   "cell_type": "markdown",
   "metadata": {},
   "source": [
    "### Visualizer"
   ]
  },
  {
   "cell_type": "code",
   "execution_count": null,
   "metadata": {},
   "outputs": [],
   "source": [
    "analyzers = analyzer_A\n",
    "#analyzers = [analyzer_A, analyzer_B]\n",
    "\n",
    "visualizer = VisualizerLocalization(my_dataset, analyzers)\n",
    "# visualizer.visualize_annotations(categories=[\"SmallCivilTransportUtility\", \"MediumCivilTransportUtility\"])\n",
    "#visualizer.visualize_annotations_for_property(\"weather\", \"Snow\")\n",
    "# ONLY 3 IMAGES ARE PROVIDED AS EXAMPLE FOR THIS DATASET\n",
    "#visualizer.visualize_annotations_for_class_for_property(\"MediumCivilTransportUtility\", \"weather\", \"Snow\", show_predictions=True)\n"
   ]
  },
  {
   "cell_type": "code",
   "execution_count": null,
   "metadata": {},
   "outputs": [],
   "source": [
    "visualizer.visualize_annotations_for_true_positive()\n",
    "\n",
    "# visualizer.visualize_annotations_for_true_positive(model=\"model_B\")\n",
    "\n",
    "#example n.35 with threshold 0.5"
   ]
  },
  {
   "cell_type": "code",
   "execution_count": null,
   "metadata": {},
   "outputs": [],
   "source": [
    "visualizer.visualize_annotations_for_false_positive()\n",
    "# visualizer.visualize_annotations_for_false_positive(categories=[\"MediumCivilTransportUtility\"])\n",
    "\n",
    "#example n.10 with threshold 0.5"
   ]
  },
  {
   "cell_type": "code",
   "execution_count": null,
   "metadata": {},
   "outputs": [],
   "source": [
    "visualizer.visualize_annotations_for_false_negative()\n",
    "# visualizer.visualize_annotations_for_false_negative(categories=[\"MediumCivilTransportUtility\"])\n",
    "\n",
    "#example n.6 with threshold 0.5\n"
   ]
  },
  {
   "cell_type": "code",
   "execution_count": null,
   "metadata": {},
   "outputs": [],
   "source": [
    "visualizer.visualize_annotations_for_error_type(ErrorType.BACKGROUND)\n",
    "# visualizer.visualize_annotations_for_error_type(ErrorType.LOCALIZATION)\n",
    "# visualizer.visualize_annotations_for_error_type(ErrorType.SIMILAR_CLASSES)\n",
    "# visualizer.visualize_annotations_for_error_type(ErrorType.OTHER)\n",
    "\n",
    "#example n. 4 with threshold 0.5"
   ]
  },
  {
   "cell_type": "code",
   "execution_count": null,
   "metadata": {},
   "outputs": [],
   "source": []
  }
 ],
 "metadata": {
  "kernelspec": {
   "display_name": "Python 3 (ipykernel)",
   "language": "python",
   "name": "python3"
  },
  "language_info": {
   "codemirror_mode": {
    "name": "ipython",
    "version": 3
   },
   "file_extension": ".py",
   "mimetype": "text/x-python",
   "name": "python",
   "nbconvert_exporter": "python",
   "pygments_lexer": "ipython3",
   "version": "3.8.5"
  }
 },
 "nbformat": 4,
 "nbformat_minor": 4
}
