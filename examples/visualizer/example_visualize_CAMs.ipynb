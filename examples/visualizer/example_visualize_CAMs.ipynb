{
 "cells": [
  {
   "cell_type": "markdown",
   "metadata": {},
   "source": [
    "# Example Visualizer - CAMs"
   ]
  },
  {
   "cell_type": "code",
   "execution_count": null,
   "metadata": {},
   "outputs": [],
   "source": [
    "%%javascript\n",
    "\n",
    "// Please, run this cell to avoid cropped output\n",
    "\n",
    "IPython.OutputArea.prototype._should_scroll = function(lines) {\n",
    "    return false;\n",
    "}"
   ]
  },
  {
   "cell_type": "markdown",
   "metadata": {},
   "source": [
    "#### package import & variables definition"
   ]
  },
  {
   "cell_type": "code",
   "execution_count": null,
   "metadata": {},
   "outputs": [],
   "source": [
    "from odin.classes import TaskType, DatasetCAMs, VisualizerClassification\n",
    "\n",
    "dataset_gt_param = \"../../test-data/CAMs/gt_CAMs.json\" # Your file gt file goes here\n",
    "images_path = \"../../test-data/annotator_example/images\" # Your images folder goes here\n",
    "\n",
    "# models cams\n",
    "path_to_cams_detections = \"../../test-data/CAMs/predictions\"\n",
    "# path_to_cams_detections = [(\"Model_A\",\"../../test-data/CAMs/predictions\"),\n",
    "#                           (\"Model_B\",\"../../test-data/CAMs/predictions\")]\n",
    "\n",
    "classification_type = TaskType.CLASSIFICATION_MULTI_LABEL"
   ]
  },
  {
   "cell_type": "markdown",
   "metadata": {},
   "source": [
    "### Dataset"
   ]
  },
  {
   "cell_type": "code",
   "execution_count": null,
   "metadata": {},
   "outputs": [],
   "source": [
    "my_dataset = DatasetCAMs(dataset_gt_param, \n",
    "                         classification_type,\n",
    "                         path_to_cams_detections,\n",
    "                         observations_abs_path=images_path, \n",
    "                         for_analysis=True,\n",
    "                         save_graphs_as_png=False,\n",
    "                         load_properties=False)"
   ]
  },
  {
   "cell_type": "markdown",
   "metadata": {},
   "source": [
    "## Visualizer"
   ]
  },
  {
   "cell_type": "code",
   "execution_count": null,
   "metadata": {},
   "outputs": [],
   "source": [
    "visualizer = VisualizerClassification(my_dataset)"
   ]
  },
  {
   "cell_type": "markdown",
   "metadata": {},
   "source": [
    "#### CAMs visualization"
   ]
  },
  {
   "cell_type": "code",
   "execution_count": null,
   "metadata": {
    "scrolled": true
   },
   "outputs": [],
   "source": [
    "# Visualize all the images and all the CAMs for each image\n",
    "visualizer.visualize_cams()\n",
    "# visualizer.visualize_cams(model=\"Model_B\")\n",
    "\n",
    "# Visualize only the images of '11H(ANTONY OF PADUA)' and all the CAMs for each image\n",
    "# visualizer.visualize_cams(categories=[\"11H(ANTONY OF PADUA)\"], heatmap=False, threshold=0.1)\n",
    "\n",
    "# Visualize all the images and only the CAMs of the selected categories\n",
    "# visualizer.visualize_cams(cams_categories=[\"11H(ANTONY OF PADUA)\", \"11H(PAUL)\"])\n",
    "\n",
    "# Visualize only the images of '11H(ANTONY OF PADUA)' and only the CAMs of the selected categories\n",
    "# visualizer.visualize_cams(categories=[\"11H(ANTONY OF PADUA)\"], cams_categories=[\"11H(ANTONY OF PADUA)\", \"11H(PAUL)\"])\n",
    "\n"
   ]
  },
  {
   "cell_type": "code",
   "execution_count": null,
   "metadata": {},
   "outputs": [],
   "source": []
  }
 ],
 "metadata": {
  "interpreter": {
   "hash": "4d95b2a5e6affe68956d71863dd07551b117290dd23dafc27bfe660a6fe9dc6c"
  },
  "kernelspec": {
   "display_name": "Python 3.8.5 ('venv': venv)",
   "language": "python",
   "name": "python3"
  },
  "language_info": {
   "codemirror_mode": {
    "name": "ipython",
    "version": 3
   },
   "file_extension": ".py",
   "mimetype": "text/x-python",
   "name": "python",
   "nbconvert_exporter": "python",
   "pygments_lexer": "ipython3",
   "version": "3.8.5"
  }
 },
 "nbformat": 4,
 "nbformat_minor": 4
}
