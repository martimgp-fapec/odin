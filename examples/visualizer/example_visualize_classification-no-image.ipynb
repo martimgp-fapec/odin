{
 "cells": [
  {
   "cell_type": "markdown",
   "metadata": {},
   "source": [
    "# Example Visualizer - Generic classification dataset"
   ]
  },
  {
   "cell_type": "markdown",
   "metadata": {},
   "source": [
    "#### package import & variables definition"
   ]
  },
  {
   "cell_type": "code",
   "execution_count": null,
   "metadata": {},
   "outputs": [],
   "source": [
    "import sys\n",
    "sys.path.insert(0, '../../')\n",
    "import os\n",
    "import json\n",
    "from odin.classes import DatasetClassification, VisualizerClassification, TaskType\n",
    "\n",
    "\n",
    "dataset_gt_param = \"../../test-data/classification-spam/sms_spams.json\"# Your file gt file goes here\n",
    "\n",
    "\n",
    "classification_type = TaskType.CLASSIFICATION_SINGLE_LABEL"
   ]
  },
  {
   "cell_type": "markdown",
   "metadata": {},
   "source": [
    "#### Dataset"
   ]
  },
  {
   "cell_type": "code",
   "execution_count": null,
   "metadata": {},
   "outputs": [],
   "source": [
    "my_dataset = DatasetClassification(dataset_gt_param, classification_type, \n",
    "                           for_analysis=False, save_graphs_as_png=False)"
   ]
  },
  {
   "cell_type": "markdown",
   "metadata": {},
   "source": [
    "#### Define the display function"
   ]
  },
  {
   "cell_type": "code",
   "execution_count": null,
   "metadata": {},
   "outputs": [],
   "source": [
    "def custom_display( record, index):\n",
    "    print(record[\"observation\"])"
   ]
  },
  {
   "cell_type": "markdown",
   "metadata": {},
   "source": [
    "### Visualizer"
   ]
  },
  {
   "cell_type": "code",
   "execution_count": null,
   "metadata": {},
   "outputs": [],
   "source": [
    "visualizer = VisualizerClassification(my_dataset, is_image=False, custom_display_function=custom_display)\n",
    "visualizer.visualize_annotations(categories=[\"spam\"])\n",
    "#visualizer.visualize_annotations_for_property(\"property_name\", \"property_value\")\n",
    "#visualizer.visualize_annotations_for_class_for_property( \"spam\", \"property_name\", \"property_value\")"
   ]
  },
  {
   "cell_type": "code",
   "execution_count": null,
   "metadata": {},
   "outputs": [],
   "source": []
  }
 ],
 "metadata": {
  "kernelspec": {
   "display_name": "Python 3 (ipykernel)",
   "language": "python",
   "name": "python3"
  },
  "language_info": {
   "codemirror_mode": {
    "name": "ipython",
    "version": 3
   },
   "file_extension": ".py",
   "mimetype": "text/x-python",
   "name": "python",
   "nbconvert_exporter": "python",
   "pygments_lexer": "ipython3",
   "version": "3.8.5"
  }
 },
 "nbformat": 4,
 "nbformat_minor": 4
}
