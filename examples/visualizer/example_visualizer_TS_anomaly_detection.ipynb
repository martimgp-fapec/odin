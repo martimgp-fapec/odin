{
 "cells": [
  {
   "cell_type": "markdown",
   "id": "4cf0898a",
   "metadata": {},
   "source": [
    "# Example Visualizer - Anomaly Detection"
   ]
  },
  {
   "cell_type": "markdown",
   "id": "4f9c0ebb",
   "metadata": {},
   "source": [
    "#### package import and variables definition"
   ]
  },
  {
   "cell_type": "code",
   "execution_count": null,
   "id": "9543dd77",
   "metadata": {},
   "outputs": [],
   "source": [
    "from odin.classes.timeseries.anomaly_definition_strategies import AnomalyDefinitionStrategyTSAE\n",
    "from odin.classes.timeseries import StandardScaler\n",
    "from odin.classes.timeseries import DatasetTSAnomalyDetection, TimeSeriesType, TSProposalsType, AnalyzerTSAnomalyDetection, VisualizerTSAnomalyDetection"
   ]
  },
  {
   "cell_type": "code",
   "execution_count": null,
   "id": "48a1ae0e",
   "metadata": {},
   "outputs": [],
   "source": [
    "scaler = StandardScaler(mean=71.43390471202335, std=4.612135080923405)"
   ]
  },
  {
   "cell_type": "markdown",
   "id": "353c0bbb",
   "metadata": {},
   "source": [
    "## Dataset"
   ]
  },
  {
   "cell_type": "code",
   "execution_count": null,
   "id": "d56ac1ae",
   "metadata": {},
   "outputs": [],
   "source": [
    "GT_PATH = \"../../test-data/anomaly_detection/gt.csv\"\n",
    "PROPOSALS_PATH = [('LSTM', \"../../test-data/anomaly_detection/predictions.csv\", TSProposalsType.REGRESSION)]\n",
    "\n",
    "my_dataset = DatasetTSAnomalyDetection(GT_PATH,\n",
    "                                       TimeSeriesType.UNIVARIATE,\n",
    "                                       anomalies_path='../../test-data/anomaly_detection/anomalies.json',\n",
    "                                       proposals_paths=PROPOSALS_PATH, \n",
    "                                       index_gt='timestamp', \n",
    "                                       index_proposals='timestamp',\n",
    "                                       scaler=scaler\n",
    "                                      )"
   ]
  },
  {
   "cell_type": "markdown",
   "id": "f0690a03",
   "metadata": {},
   "source": [
    "## Analyzer"
   ]
  },
  {
   "cell_type": "code",
   "execution_count": null,
   "id": "20f571f7",
   "metadata": {},
   "outputs": [],
   "source": [
    "analyzers = [AnalyzerTSAnomalyDetection('LSTM', \n",
    "                                         my_dataset, \n",
    "                                         threshold=0.85, \n",
    "                                         anomaly_evaluation=AnomalyDefinitionStrategyTSAE(),\n",
    "                                         scaler_values=(True, True))]"
   ]
  },
  {
   "cell_type": "markdown",
   "id": "65841c24",
   "metadata": {},
   "source": [
    "## Visualizer"
   ]
  },
  {
   "cell_type": "code",
   "execution_count": null,
   "id": "807a6792",
   "metadata": {},
   "outputs": [],
   "source": [
    "my_visualizer = VisualizerTSAnomalyDetection(my_dataset, analyzers)"
   ]
  },
  {
   "cell_type": "code",
   "execution_count": null,
   "id": "532e1238",
   "metadata": {
    "scrolled": false
   },
   "outputs": [],
   "source": [
    "my_visualizer.show()"
   ]
  },
  {
   "cell_type": "code",
   "execution_count": null,
   "id": "31dc8d67",
   "metadata": {},
   "outputs": [],
   "source": []
  }
 ],
 "metadata": {
  "celltoolbar": "Raw Cell Format",
  "interpreter": {
   "hash": "4d95b2a5e6affe68956d71863dd07551b117290dd23dafc27bfe660a6fe9dc6c"
  },
  "kernelspec": {
   "display_name": "Python 3 (ipykernel)",
   "language": "python",
   "name": "python3"
  },
  "language_info": {
   "codemirror_mode": {
    "name": "ipython",
    "version": 3
   },
   "file_extension": ".py",
   "mimetype": "text/x-python",
   "name": "python",
   "nbconvert_exporter": "python",
   "pygments_lexer": "ipython3",
   "version": "3.8.5"
  }
 },
 "nbformat": 4,
 "nbformat_minor": 5
}
