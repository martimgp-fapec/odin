{
 "cells": [
  {
   "cell_type": "markdown",
   "metadata": {},
   "source": [
    "# Example Visualizer - Classification"
   ]
  },
  {
   "cell_type": "markdown",
   "metadata": {},
   "source": [
    "This notebook contains example of how to use the visualizer in the following three cases:\n",
    "\n",
    "1) **ONLY GT**: Explore the dataset (filtering by class, and/or property values).\n",
    "<br>\n",
    "Requires only the dataset.\n",
    "\n",
    "2) **GT + Proposals**: Explore the dataset (filtering by class, and/or property values) and visualize the model prediction scores at the same time.\n",
    "<br>\n",
    "Requires the dataset and the \"proposals/predictions\".\n",
    "\n",
    "3) **Based on analysis queries**: Same as the previous setting but with filter by additional settings based on the analysis (e.g. true positives, error of similar classes, etc.)\n",
    "<br>\n",
    "Requires the dataset and the \"proposals/predictions\"."
   ]
  },
  {
   "cell_type": "markdown",
   "metadata": {},
   "source": [
    "## 1) Only GT"
   ]
  },
  {
   "cell_type": "markdown",
   "metadata": {},
   "source": [
    "#### package import & variables definition"
   ]
  },
  {
   "cell_type": "code",
   "execution_count": null,
   "metadata": {},
   "outputs": [],
   "source": [
    "import sys\n",
    "sys.path.insert(0, '../../')\n",
    "from odin.classes import TaskType, DatasetClassification, VisualizerClassification\n",
    "\n",
    "\n",
    "dataset_gt_param = \"../../test-data/annotator_example/artdl_classification.json\" # Your file gt file goes here\n",
    "images_path = \"../../test-data/annotator_example/images\" # Your images folder goes here\n",
    "\n",
    "classification_type = TaskType.CLASSIFICATION_MULTI_LABEL"
   ]
  },
  {
   "cell_type": "markdown",
   "metadata": {},
   "source": [
    "#### Dataset"
   ]
  },
  {
   "cell_type": "code",
   "execution_count": null,
   "metadata": {},
   "outputs": [],
   "source": [
    "my_dataset = DatasetClassification(dataset_gt_param, classification_type,\n",
    "                          observations_abs_path=images_path, for_analysis=True, save_graphs_as_png=False)"
   ]
  },
  {
   "cell_type": "markdown",
   "metadata": {},
   "source": [
    "### Visualizer"
   ]
  },
  {
   "cell_type": "code",
   "execution_count": null,
   "metadata": {},
   "outputs": [],
   "source": [
    "visualizer = VisualizerClassification(my_dataset)"
   ]
  },
  {
   "cell_type": "code",
   "execution_count": null,
   "metadata": {},
   "outputs": [],
   "source": [
    "visualizer.visualize_annotations_for_ids(5)\n",
    "\n",
    "# visualizer.visualize_annotations_for_ids([1, 3, 5])"
   ]
  },
  {
   "cell_type": "code",
   "execution_count": null,
   "metadata": {},
   "outputs": [],
   "source": [
    "# visualizer.visualize_annotations(categories=[\"Saint Sebastian\"])\n",
    "# visualizer.visualize_annotations_for_property(\"color\", \"bw\")\n",
    "\n",
    "visualizer.visualize_annotations_for_class_for_property(\"Virgin Mary\", \"color\", \"rgb\")"
   ]
  },
  {
   "cell_type": "markdown",
   "metadata": {},
   "source": [
    "## 2) GT + Proposals"
   ]
  },
  {
   "cell_type": "markdown",
   "metadata": {},
   "source": [
    "#### package import & variables definition"
   ]
  },
  {
   "cell_type": "code",
   "execution_count": null,
   "metadata": {
    "scrolled": true
   },
   "outputs": [],
   "source": [
    "import sys\n",
    "sys.path.insert(0, '../../')\n",
    "\n",
    "from odin.classes import TaskType, DatasetClassification, VisualizerClassification\n",
    "\n",
    "\n",
    "dataset_gt_param = \"../../test-data/annotator_example/artdl_classification.json\" # Your file gt file goes here\n",
    "images_path = \"../../test-data/annotator_example/images\" # Your images folder goes here\n",
    "\n",
    "# to show also the predictions\n",
    "path_to_detections = \"../../test-data/classification-ml/predictions\"\n",
    "# path_to_detections = [(\"Model_A\",\"../../test-data/classification-ml/predictions\"),\n",
    "#                         (\"Model_B\",\"../../test-data/classification-ml/predictions\")] \n",
    "\n",
    "classification_type = TaskType.CLASSIFICATION_MULTI_LABEL"
   ]
  },
  {
   "cell_type": "markdown",
   "metadata": {},
   "source": [
    "#### Dataset"
   ]
  },
  {
   "cell_type": "code",
   "execution_count": null,
   "metadata": {},
   "outputs": [],
   "source": [
    "my_dataset = DatasetClassification(dataset_gt_param, classification_type, proposals_paths=path_to_detections,\n",
    "                          observations_abs_path=images_path, for_analysis=True, save_graphs_as_png=False)"
   ]
  },
  {
   "cell_type": "markdown",
   "metadata": {},
   "source": [
    "### Visualizer"
   ]
  },
  {
   "cell_type": "code",
   "execution_count": null,
   "metadata": {},
   "outputs": [],
   "source": [
    "visualizer = VisualizerClassification(my_dataset)"
   ]
  },
  {
   "cell_type": "code",
   "execution_count": null,
   "metadata": {},
   "outputs": [],
   "source": [
    "visualizer.visualize_annotations_for_ids([9, 4], show_predictions=True)"
   ]
  },
  {
   "cell_type": "code",
   "execution_count": null,
   "metadata": {
    "scrolled": false
   },
   "outputs": [],
   "source": [
    "#visualizer.visualize_annotations(categories=[\"Saint Sebastian\"], show_predictions=True)\n",
    "# visualizer.visualize_annotations_for_property(\"color\", \"bw\", show_predictions=True)\n",
    "\n",
    "visualizer.visualize_annotations_for_class_for_property(\"Virgin Mary\", \"color\", \"rgb\", show_predictions=True)"
   ]
  },
  {
   "cell_type": "markdown",
   "metadata": {},
   "source": [
    "## 3) Based on analysis queries"
   ]
  },
  {
   "cell_type": "markdown",
   "metadata": {},
   "source": [
    "#### package import & variables definition"
   ]
  },
  {
   "cell_type": "code",
   "execution_count": null,
   "metadata": {},
   "outputs": [],
   "source": [
    "import sys\n",
    "sys.path.insert(0, '../../')\n",
    "from odin.classes import TaskType, ErrorType, DatasetClassification, AnalyzerClassification, VisualizerClassification\n",
    "\n",
    "\n",
    "dataset_gt_param = \"../../test-data/annotator_example/artdl_classification.json\" # Your file gt file goes here\n",
    "images_path = \"../../test-data/annotator_example/images\" # Your images folder goes here\n",
    "path_to_detections = \"../../test-data/classification-ml/predictions\"\n",
    "# path_to_detections = [(\"Model_A\",\"../../test-data/classification-ml/predictions\"),\n",
    "#                      (\"Model_B\",\"../../test-data/classification-ml/predictions\")] # to show also the predictions\n",
    "\n",
    "classification_type = TaskType.CLASSIFICATION_MULTI_LABEL"
   ]
  },
  {
   "cell_type": "markdown",
   "metadata": {},
   "source": [
    "#### Dataset"
   ]
  },
  {
   "cell_type": "code",
   "execution_count": null,
   "metadata": {},
   "outputs": [],
   "source": [
    "my_dataset = DatasetClassification(dataset_gt_param, classification_type, proposals_paths=path_to_detections,\n",
    "                          observations_abs_path=images_path, for_analysis=True, save_graphs_as_png=False)"
   ]
  },
  {
   "cell_type": "markdown",
   "metadata": {},
   "source": [
    "#### Analyzer"
   ]
  },
  {
   "cell_type": "code",
   "execution_count": null,
   "metadata": {},
   "outputs": [],
   "source": [
    "analyzer_A = AnalyzerClassification('Model_A',  my_dataset, conf_thresh=0.1, save_graphs_as_png=False)\n",
    "# analyzer_B = AnalyzerClassification('Model_B',  my_dataset, conf_thresh=0.9, save_graphs_as_png=False)"
   ]
  },
  {
   "cell_type": "markdown",
   "metadata": {},
   "source": [
    "### Visualizer"
   ]
  },
  {
   "cell_type": "code",
   "execution_count": null,
   "metadata": {},
   "outputs": [],
   "source": [
    "analyzers = analyzer_A\n",
    "# analyzers = [analyzer_A, analyzer_B]\n",
    "\n",
    "visualizer = VisualizerClassification(my_dataset, analyzers)\n",
    "\n",
    "# visualizer.visualize_annotations(categories=[\"Saint Sebastian\"])\n",
    "# visualizer.visualize_annotations_for_property(\"color\", \"bw\", show_predictions=True)\n",
    "# visualizer.visualize_annotations_for_class_for_property(\"Virgin Mary\", \"color\", \"rgb\")"
   ]
  },
  {
   "cell_type": "code",
   "execution_count": null,
   "metadata": {},
   "outputs": [],
   "source": [
    "visualizer.visualize_annotations_for_true_positive(categories=[\"Virgin Mary\"])\n",
    "\n",
    "#visualizer.visualize_annotations_for_true_positive(model=\"model_B\")"
   ]
  },
  {
   "cell_type": "code",
   "execution_count": null,
   "metadata": {},
   "outputs": [],
   "source": [
    "visualizer.visualize_annotations_for_false_positive()\n",
    "\n",
    "# visualizer.visualize_annotations_for_false_positive(model=\"model_B\")"
   ]
  },
  {
   "cell_type": "code",
   "execution_count": null,
   "metadata": {},
   "outputs": [],
   "source": [
    "visualizer.visualize_annotations_for_false_negative()\n",
    "\n",
    "# visualizer.visualize_annotations_for_false_negative(model=\"model_B\")"
   ]
  },
  {
   "cell_type": "code",
   "execution_count": null,
   "metadata": {},
   "outputs": [],
   "source": [
    "# visualizer.visualize_annotations_for_error_type(ErrorType.BACKGROUND)\n",
    "# visualizer.visualize_annotations_for_error_type(ErrorType.SIMILAR_CLASSES)\n",
    "visualizer.visualize_annotations_for_error_type(ErrorType.CLASSIFICATION)\n",
    "\n",
    "# visualizer.visualize_annotations_for_error_type(ErrorType.OTHER, model=\"Model_B\")"
   ]
  },
  {
   "cell_type": "code",
   "execution_count": null,
   "metadata": {},
   "outputs": [],
   "source": [
    "# N.B. Supported only for BINARY CLASSIFICATION \n",
    "visualizer.visualize_annotations_for_true_negative()"
   ]
  },
  {
   "cell_type": "code",
   "execution_count": null,
   "metadata": {},
   "outputs": [],
   "source": []
  }
 ],
 "metadata": {
  "kernelspec": {
   "display_name": "Python 3 (ipykernel)",
   "language": "python",
   "name": "python3"
  },
  "language_info": {
   "codemirror_mode": {
    "name": "ipython",
    "version": 3
   },
   "file_extension": ".py",
   "mimetype": "text/x-python",
   "name": "python",
   "nbconvert_exporter": "python",
   "pygments_lexer": "ipython3",
   "version": "3.8.5"
  }
 },
 "nbformat": 4,
 "nbformat_minor": 4
}
