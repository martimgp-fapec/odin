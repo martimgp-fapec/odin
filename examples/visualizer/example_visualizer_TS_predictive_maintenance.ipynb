{
 "cells": [
  {
   "cell_type": "markdown",
   "id": "12268333",
   "metadata": {},
   "source": [
    "# Example Visualizer - Predictive Maintenance"
   ]
  },
  {
   "cell_type": "markdown",
   "id": "5513f273",
   "metadata": {},
   "source": [
    "#### package import and variables definition"
   ]
  },
  {
   "cell_type": "code",
   "execution_count": null,
   "id": "6e596148",
   "metadata": {},
   "outputs": [],
   "source": [
    "from odin.classes import Metrics\n",
    "from odin.classes.timeseries import TimeSeriesType, TSProposalsType, DatasetTSPredictiveMaintenance, VisualizerTSPredictiveMaintenance, AnalyzerTSPredictiveMaintenance\n"
   ]
  },
  {
   "cell_type": "markdown",
   "id": "8387a223",
   "metadata": {},
   "source": [
    "## Dataset"
   ]
  },
  {
   "cell_type": "code",
   "execution_count": null,
   "id": "4a34cafb",
   "metadata": {},
   "outputs": [],
   "source": [
    "GT_PATH = \"../../test-data/predictive_maintenance/gt.csv\"\n",
    "PROPOSALS_PATH = [('LSTM', \"../../test-data/predictive_maintenance/predictions\", TSProposalsType.REGRESSION)]\n",
    "\n",
    "my_dataset = DatasetTSPredictiveMaintenance(GT_PATH,\n",
    "                                       TimeSeriesType.MULTIVARIATE,\n",
    "                                       index_gt='observation_id',\n",
    "                                       proposals_paths=PROPOSALS_PATH,\n",
    "                                       index_proposals='observation_id'\n",
    "                                      )"
   ]
  },
  {
   "cell_type": "markdown",
   "id": "86d64b04",
   "metadata": {},
   "source": [
    "## Analyzer"
   ]
  },
  {
   "cell_type": "code",
   "execution_count": null,
   "id": "5922ca04",
   "metadata": {},
   "outputs": [],
   "source": [
    "analyzers = [AnalyzerTSPredictiveMaintenance('LSTM', \n",
    "                                              my_dataset, \n",
    "                                              metric=Metrics.MAE)]"
   ]
  },
  {
   "cell_type": "markdown",
   "id": "9dfc3d90",
   "metadata": {},
   "source": [
    "## Visualizer"
   ]
  },
  {
   "cell_type": "code",
   "execution_count": null,
   "id": "dc54f28b",
   "metadata": {},
   "outputs": [],
   "source": [
    "my_visualizer = VisualizerTSPredictiveMaintenance(my_dataset, analyzers)"
   ]
  },
  {
   "cell_type": "code",
   "execution_count": null,
   "id": "5217e70c",
   "metadata": {
    "scrolled": false
   },
   "outputs": [],
   "source": [
    "my_visualizer.show()"
   ]
  },
  {
   "cell_type": "code",
   "execution_count": null,
   "id": "c1851136",
   "metadata": {},
   "outputs": [],
   "source": []
  }
 ],
 "metadata": {
  "kernelspec": {
   "display_name": "Python 3 (ipykernel)",
   "language": "python",
   "name": "python3"
  },
  "language_info": {
   "codemirror_mode": {
    "name": "ipython",
    "version": 3
   },
   "file_extension": ".py",
   "mimetype": "text/x-python",
   "name": "python",
   "nbconvert_exporter": "python",
   "pygments_lexer": "ipython3",
   "version": "3.8.5"
  }
 },
 "nbformat": 4,
 "nbformat_minor": 5
}
