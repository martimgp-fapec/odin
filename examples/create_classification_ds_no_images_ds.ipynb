{
 "cells": [
  {
   "cell_type": "markdown",
   "metadata": {},
   "source": [
    "For demo purposes on how to annotate non-image data, we took a dataset of sms from https://www.dt.fee.unicamp.br/~tiago/smsspamcollection/. This dataset, already contains the category, we take only the sms to demo the annotation process"
   ]
  },
  {
   "cell_type": "code",
   "execution_count": null,
   "metadata": {},
   "outputs": [],
   "source": [
    "# We need to create a list of the obervations, \n",
    "# if each sms would be in a different file, the observations could be just the path to such files\n",
    "\n",
    "observations_path = \"../test-data/classification-spam/SMSSpamCollection.txt\"\n",
    "observations = []\n",
    "with open(observations_path) as file:\n",
    "    for line in file:\n",
    "        _, sms = line.split(\"\\t\")\n",
    "        observations.append(sms)"
   ]
  },
  {
   "cell_type": "markdown",
   "metadata": {},
   "source": [
    "# BASE EXAMPLE"
   ]
  },
  {
   "cell_type": "code",
   "execution_count": null,
   "metadata": {},
   "outputs": [],
   "source": [
    "import sys\n",
    "sys.path.insert(0, \"../\")\n",
    "\n",
    "from odin.classes import TaskType\n",
    "from odin.annotator import  DatasetAnnotatorClassification\n",
    "\n",
    "\n",
    "output_path = \"../test-data/classification-spam\"\n",
    "output_name = \"sms_spams\"\n",
    "\n",
    "task_type = TaskType.CLASSIFICATION_SINGLE_LABEL\n",
    "classes = [\"spam\", \"legitimate\"]"
   ]
  },
  {
   "cell_type": "code",
   "execution_count": null,
   "metadata": {},
   "outputs": [],
   "source": [
    "# We need to specify what we will show\n",
    "def custom_display_function(record):\n",
    "    print(record[\"observation\"])\n",
    "    \n",
    "ds_generator = DatasetAnnotatorClassification(task_type, observations, output_path, output_name, classes, \n",
    "                                       is_image=False, custom_display_function=custom_display_function)\n",
    "ds_generator.start_classification()"
   ]
  },
  {
   "cell_type": "code",
   "execution_count": null,
   "metadata": {},
   "outputs": [],
   "source": [
    "ds_generator.print_statistics()"
   ]
  },
  {
   "cell_type": "code",
   "execution_count": null,
   "metadata": {},
   "outputs": [],
   "source": []
  }
 ],
 "metadata": {
  "kernelspec": {
   "display_name": "Python 3",
   "language": "python",
   "name": "python3"
  },
  "language_info": {
   "codemirror_mode": {
    "name": "ipython",
    "version": 3
   },
   "file_extension": ".py",
   "mimetype": "text/x-python",
   "name": "python",
   "nbconvert_exporter": "python",
   "pygments_lexer": "ipython3",
   "version": "3.8.5"
  }
 },
 "nbformat": 4,
 "nbformat_minor": 2
}
