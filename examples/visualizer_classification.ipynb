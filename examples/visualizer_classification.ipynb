{
 "cells": [
  {
   "cell_type": "code",
   "execution_count": null,
   "metadata": {},
   "outputs": [],
   "source": [
    "import sys\n",
    "sys.path.insert(0, '../')\n",
    "import os\n",
    "import json\n",
    "from odin.classes import DatasetClassification, VisualizerClassification, TaskType\n",
    "\n",
    "dataset_gt_param = \"../test-data/annotator_example/artdl_classification_ANNOTATED.json\" # Your file gt file goes here\n",
    "images_path = \"../test-data/annotator_example/images\" # Your images folder goes here\n",
    "\n",
    "classification_type = TaskType.CLASSIFICATION_MULTI_LABEL\n",
    "\n",
    "my_dataset = DatasetClassification(dataset_gt_param, classification_type, \n",
    "                          observations_abs_path=images_path, for_analysis=False)"
   ]
  },
  {
   "cell_type": "code",
   "execution_count": null,
   "metadata": {},
   "outputs": [],
   "source": [
    "visualizer = VisualizerClassification(my_dataset)\n",
    "visualizer.visualize_annotations(categories=[\"Saint Sebastian\"])\n",
    "#visualizer.visualize_annotations_for_property(\"Color\", \"bw\")\n",
    "#visualizer.visualize_annotations_for_class_for_property( \"Virgin Mary\", \"Color\", \"rgb\")"
   ]
  },
  {
   "cell_type": "code",
   "execution_count": null,
   "metadata": {},
   "outputs": [],
   "source": []
  }
 ],
 "metadata": {
  "kernelspec": {
   "display_name": "Python 3",
   "language": "python",
   "name": "python3"
  },
  "language_info": {
   "codemirror_mode": {
    "name": "ipython",
    "version": 3
   },
   "file_extension": ".py",
   "mimetype": "text/x-python",
   "name": "python",
   "nbconvert_exporter": "python",
   "pygments_lexer": "ipython3",
   "version": "3.7.6"
  }
 },
 "nbformat": 4,
 "nbformat_minor": 4
}
