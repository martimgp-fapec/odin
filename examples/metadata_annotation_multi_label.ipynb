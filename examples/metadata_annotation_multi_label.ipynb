{
 "cells": [
  {
   "cell_type": "code",
   "execution_count": null,
   "metadata": {
    "pycharm": {
     "is_executing": true,
     "name": "#%%\n"
    },
    "scrolled": false
   },
   "outputs": [],
   "source": [
    "import os\n",
    "import sys\n",
    "sys.path.insert(0, \"../\")\n",
    "from odin.classes import DatasetClassification, TaskType\n",
    "from odin.annotator import MetaPropertiesType, AnnotatorClassification"
   ]
  },
  {
   "cell_type": "code",
   "execution_count": null,
   "metadata": {},
   "outputs": [],
   "source": [
    "# Landfills - new format\n",
    "dataset_gt_param = \"../test-data/annotator_example/artdl_classification.json\"\n",
    "images_path = \"../test-data/annotator_example/images/\"\n",
    "\n",
    "classification_type = TaskType.CLASSIFICATION_MULTI_LABEL\n",
    "\n",
    "\n",
    "my_dataset = DatasetClassification(dataset_gt_param, \n",
    "                                   classification_type, observations_abs_path=images_path, \n",
    "                                  for_analysis=False)\n"
   ]
  },
  {
   "cell_type": "code",
   "execution_count": null,
   "metadata": {},
   "outputs": [],
   "source": [
    "properties = {\"Color\": (MetaPropertiesType.UNIQUE, [\"rgb\", \"bw\"]),\n",
    "              # This are momentarely deactivated until we provide support with the analyzer\n",
    "              #\"Medium\": (MetaPropertiesType.COMPOUND, [\"Paper\", \"Wood\", \"Canvas\", \"Stone\", \"Clay\"]),\n",
    "             #\"Painter\": (MetaPropertiesType.TEXT,),\n",
    "             #\"Characters\":(MetaPropertiesType.CONTINUE, [0, 30])\n",
    "             }"
   ]
  },
  {
   "cell_type": "code",
   "execution_count": null,
   "metadata": {},
   "outputs": [],
   "source": [
    "from PIL import Image\n",
    "from matplotlib import pyplot as plt\n",
    "def custom_fuction_display(image_record):\n",
    "    print(f\"This is image {image_record['file_name']}\")\n",
    "    path_img = os.path.join(images_path, image_record['file_name'])\n",
    "    \n",
    "    #   read img from path and show its\n",
    "    img = Image.open(path_img)\n",
    "    plt.figure(figsize=(10, 10))     \n",
    "    plt.axis('off')\n",
    "    plt.imshow(img)\n",
    "    plt.show()\n",
    "    \n",
    "show_image_function = \"default\"\n",
    "show_image_function = custom_fuction_display\n",
    "show_image_function = \"zoom_leaflet\"\n",
    "\n",
    "def validate_function(img_record):\n",
    "    return 'Color' in img_record\n",
    "\n",
    "val_fun = None\n",
    "val_fun = validate_function\n",
    "my_annotator = AnnotatorClassification(my_dataset, properties, custom_display_function=show_image_function, \n",
    "                                       validate_function=val_fun)\n",
    "my_annotator.start_annotation()"
   ]
  },
  {
   "cell_type": "code",
   "execution_count": null,
   "metadata": {
    "pycharm": {
     "is_executing": true,
     "name": "#%%\n"
    }
   },
   "outputs": [],
   "source": [
    "my_annotator.print_statistics()"
   ]
  },
  {
   "cell_type": "code",
   "execution_count": null,
   "metadata": {},
   "outputs": [],
   "source": [
    "my_annotator.print_results()"
   ]
  },
  {
   "cell_type": "code",
   "execution_count": null,
   "metadata": {},
   "outputs": [],
   "source": []
  },
  {
   "cell_type": "code",
   "execution_count": null,
   "metadata": {},
   "outputs": [],
   "source": []
  }
 ],
 "metadata": {
  "kernelspec": {
   "display_name": "Python 3",
   "language": "python",
   "name": "python3"
  },
  "language_info": {
   "codemirror_mode": {
    "name": "ipython",
    "version": 3
   },
   "file_extension": ".py",
   "mimetype": "text/x-python",
   "name": "python",
   "nbconvert_exporter": "python",
   "pygments_lexer": "ipython3",
   "version": "3.7.6"
  },
  "pycharm": {
   "stem_cell": {
    "cell_type": "raw",
    "metadata": {
     "collapsed": false
    },
    "source": []
   }
  }
 },
 "nbformat": 4,
 "nbformat_minor": 4
}
