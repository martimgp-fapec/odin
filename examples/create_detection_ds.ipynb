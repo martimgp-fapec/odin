{
 "cells": [
  {
   "cell_type": "code",
   "execution_count": null,
   "metadata": {},
   "outputs": [],
   "source": [
    "import sys\n",
    "sys.path.insert(0, \"../\")\n",
    "from odin.annotator import ImagesLoader, DatasetAnnotatorDetection"
   ]
  },
  {
   "cell_type": "code",
   "execution_count": null,
   "metadata": {},
   "outputs": [],
   "source": [
    "# list of classes\n",
    "\n",
    "classes = [\"Anthony of Padua\",  \"Virgin Mary\", \"Mary Magdalena\", 'John Baptist - Adult', 'Francis of Assisi', 'Paul', 'Peter', \n",
    "           'Jerome', 'Saint Sebastian', 'Saint Dominic']\n",
    "\n",
    "images_path = \"../test-data/annotator_example/images\"\n",
    "images_extension = \".jpg\"\n",
    "\n",
    "# can be absolute path\n",
    "output_path = \"../test-data/annotator_example/\"\n",
    "output_name = \"artdl_bbox\""
   ]
  },
  {
   "cell_type": "code",
   "execution_count": null,
   "metadata": {
    "scrolled": false
   },
   "outputs": [],
   "source": [
    "# load images\n",
    "images = ImagesLoader(images_path, images_extension).get_images_array()\n",
    "len(images)"
   ]
  },
  {
   "cell_type": "code",
   "execution_count": null,
   "metadata": {},
   "outputs": [],
   "source": [
    "# annotator class\n",
    "annotator = DatasetAnnotatorDetection(classes, images, output_path, output_name)\n",
    "annotator.start_annotation()"
   ]
  },
  {
   "cell_type": "code",
   "execution_count": null,
   "metadata": {},
   "outputs": [],
   "source": []
  },
  {
   "cell_type": "code",
   "execution_count": null,
   "metadata": {},
   "outputs": [],
   "source": []
  }
 ],
 "metadata": {
  "kernelspec": {
   "display_name": "Python 3",
   "language": "python",
   "name": "python3"
  },
  "language_info": {
   "codemirror_mode": {
    "name": "ipython",
    "version": 3
   },
   "file_extension": ".py",
   "mimetype": "text/x-python",
   "name": "python",
   "nbconvert_exporter": "python",
   "pygments_lexer": "ipython3",
   "version": "3.8.5"
  }
 },
 "nbformat": 4,
 "nbformat_minor": 2
}
