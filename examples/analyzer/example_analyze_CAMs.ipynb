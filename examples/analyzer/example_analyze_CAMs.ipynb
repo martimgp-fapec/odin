{
 "cells": [
  {
   "cell_type": "markdown",
   "metadata": {},
   "source": [
    "# Example of CAMs analysis for multi-class multi-label classification"
   ]
  },
  {
   "cell_type": "markdown",
   "metadata": {},
   "source": [
    "#### package import and variables definition"
   ]
  },
  {
   "cell_type": "code",
   "execution_count": null,
   "metadata": {},
   "outputs": [],
   "source": [
    "from odin.classes import TaskType, Metrics, DatasetCAMs, AnalyzerCAMs\n",
    "\n",
    "# define the path of the GT .json file\n",
    "dataset_gt_param = \"../../test-data/CAMs/gt_CAMs.json\"\n",
    "\n",
    "# define the path of the CAMs for each model\n",
    "# path_to_cams_detections = \"../../test-data/CAMs/predictions\" \n",
    "path_to_cams_detections = [(\"Model_A\",\"../../test-data/CAMs/predictions\"), \n",
    "                            (\"Model_B\",\"../../test-data/CAMs/predictions\")]\n",
    "\n",
    "# define the classification task (CLASSIFICATION_BINARY, CLASSIFICATION_SINGLE_LABEL, CLASSIFICATION_MULTI_LABEL)\n",
    "classification_type = TaskType.CLASSIFICATION_MULTI_LABEL\n",
    "\n",
    "# [OPTIONAL] define the file_name for the meta-annotations and categories\n",
    "properties_file = \"properties_CAMs.json\"\n",
    "\n",
    "# [OPTIONAL] define the path of the folder that contains the predictions .txt files.\n",
    "# path_to_detections = \"...\""
   ]
  },
  {
   "cell_type": "markdown",
   "metadata": {},
   "source": [
    "## CAMs Analysis"
   ]
  },
  {
   "cell_type": "markdown",
   "metadata": {},
   "source": [
    "### Create Data Set"
   ]
  },
  {
   "cell_type": "code",
   "execution_count": null,
   "metadata": {},
   "outputs": [],
   "source": [
    "my_dataset = DatasetCAMs(dataset_gt_param,\n",
    "                         classification_type,\n",
    "                         path_to_cams_detections,\n",
    "                         # proposal_path = path_to_detections # also all the ClassificationAnalyzer analyses will be available\n",
    "                         properties_file=properties_file,\n",
    "                         match_on_filename=True,\n",
    "                         save_graphs_as_png=False,\n",
    "                         load_properties=False # if you do not care about meta-annotations\n",
    "                        )"
   ]
  },
  {
   "cell_type": "markdown",
   "metadata": {},
   "source": [
    "### Analyzer"
   ]
  },
  {
   "cell_type": "code",
   "execution_count": null,
   "metadata": {},
   "outputs": [],
   "source": [
    "my_analyzer = AnalyzerCAMs('Model_A', # N.B. the name must be the same of ones in the list of the proposals\n",
    "                           my_dataset,\n",
    "                           cam_thresh=0.5,\n",
    "                           cam_coverage_thresh=0.2,\n",
    "                           metric=Metrics.CAM_GLOBAL_IOU,\n",
    "                           save_graphs_as_png=False)"
   ]
  },
  {
   "cell_type": "markdown",
   "metadata": {},
   "source": [
    "#### Overall"
   ]
  },
  {
   "cell_type": "code",
   "execution_count": null,
   "metadata": {},
   "outputs": [],
   "source": [
    "my_analyzer.analyze_cams()\n",
    "\n",
    "# [OPTIONAL] set the metric to be used in the analysis\n",
    "# eval_metric = Metrics.CAM_IRRELEVANT_ATTENTION\n",
    "\n",
    "# my_analyzer.analyze_cams(metric=eval_metric)"
   ]
  },
  {
   "cell_type": "markdown",
   "metadata": {},
   "source": [
    "#### Per-category"
   ]
  },
  {
   "cell_type": "code",
   "execution_count": null,
   "metadata": {},
   "outputs": [],
   "source": [
    "my_analyzer.analyze_cams_for_categories()\n",
    "\n",
    "# [OPTIONAL] define specific categories to be analyzed\n",
    "# categories = ['11H(ANTONY OF PADUA)', '11H(JOHN THE BAPTIST)']\n",
    "\n",
    "# [OPTIONAL] set the metric to be used in the analysis\n",
    "# eval_metric = Metrics.CAM_IRRELEVANT_ATTENTION\n",
    "\n",
    "# my_analyzer.analyze_cams_for_categories(categories=categories, metric=eval_metric)"
   ]
  },
  {
   "cell_type": "code",
   "execution_count": null,
   "metadata": {},
   "outputs": [],
   "source": []
  }
 ],
 "metadata": {
  "kernelspec": {
   "display_name": "Python 3 (ipykernel)",
   "language": "python",
   "name": "python3"
  },
  "language_info": {
   "codemirror_mode": {
    "name": "ipython",
    "version": 3
   },
   "file_extension": ".py",
   "mimetype": "text/x-python",
   "name": "python",
   "nbconvert_exporter": "python",
   "pygments_lexer": "ipython3",
   "version": "3.8.5"
  }
 },
 "nbformat": 4,
 "nbformat_minor": 4
}
