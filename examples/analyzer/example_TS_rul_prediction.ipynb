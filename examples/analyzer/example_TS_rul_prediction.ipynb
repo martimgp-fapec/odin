{
 "cells": [
  {
   "cell_type": "markdown",
   "id": "931c88e3",
   "metadata": {},
   "source": [
    "# Example of model analysis for RUL prediction"
   ]
  },
  {
   "cell_type": "markdown",
   "id": "13943dfd",
   "metadata": {},
   "source": [
    "#### package import and variables definition"
   ]
  },
  {
   "cell_type": "code",
   "execution_count": null,
   "id": "9063560c",
   "metadata": {},
   "outputs": [],
   "source": [
    "import sys\n",
    "sys.path.insert(0, '../../')\n",
    "\n",
    "from odin.classes import TaskType, Metrics\n",
    "from odin.classes.timeseries import DatasetTSPredictiveMaintenance, TimeSeriesType, TSProposalsType, AnalyzerTSPredictiveMaintenance"
   ]
  },
  {
   "cell_type": "markdown",
   "id": "56fcad3d",
   "metadata": {},
   "source": [
    "## Dataset"
   ]
  },
  {
   "cell_type": "code",
   "execution_count": null,
   "id": "eb803e45",
   "metadata": {},
   "outputs": [],
   "source": [
    "GT_PATH = \"../../test-data/predictive_maintenance/gt.csv\"\n",
    "PROPOSALS_PATH = [('LSTM', \"../../test-data/predictive_maintenance/predictions\", TSProposalsType.REGRESSION)]\n",
    "\n",
    "my_dataset = DatasetTSPredictiveMaintenance(GT_PATH,\n",
    "                                       TimeSeriesType.MULTIVARIATE,\n",
    "                                       index_gt='observation_id',\n",
    "                                       proposals_paths=PROPOSALS_PATH,\n",
    "                                       index_proposals='observation_id'\n",
    "                                      )"
   ]
  },
  {
   "cell_type": "markdown",
   "id": "1913d9cc",
   "metadata": {},
   "source": [
    "## Analyzer"
   ]
  },
  {
   "cell_type": "code",
   "execution_count": null,
   "id": "86ea50e7",
   "metadata": {
    "scrolled": true
   },
   "outputs": [],
   "source": [
    "my_analyzer = AnalyzerTSPredictiveMaintenance('LSTM', \n",
    "                                              my_dataset, \n",
    "                                              metric=Metrics.MAE)"
   ]
  },
  {
   "cell_type": "markdown",
   "id": "5ca3491a",
   "metadata": {},
   "source": [
    "### Performance analysis"
   ]
  },
  {
   "cell_type": "code",
   "execution_count": null,
   "id": "99e59f9b",
   "metadata": {},
   "outputs": [],
   "source": [
    "my_analyzer.analyze_performance()"
   ]
  },
  {
   "cell_type": "code",
   "execution_count": null,
   "id": "5ba196a8",
   "metadata": {
    "scrolled": true
   },
   "outputs": [],
   "source": [
    "my_analyzer.analyze_performance_for_unit()"
   ]
  },
  {
   "cell_type": "markdown",
   "id": "2727ff7c",
   "metadata": {},
   "source": [
    "### Residuals analysis"
   ]
  },
  {
   "cell_type": "code",
   "execution_count": null,
   "id": "78f09b62",
   "metadata": {
    "scrolled": false
   },
   "outputs": [],
   "source": [
    "my_analyzer.show_predicted_vs_actual()"
   ]
  },
  {
   "cell_type": "code",
   "execution_count": null,
   "id": "87f43117",
   "metadata": {
    "scrolled": true
   },
   "outputs": [],
   "source": [
    "my_analyzer.show_predicted_vs_actual_for_unit()"
   ]
  },
  {
   "cell_type": "markdown",
   "id": "76d11cc7",
   "metadata": {},
   "source": [
    "### RUL consistency analysis"
   ]
  },
  {
   "cell_type": "code",
   "execution_count": null,
   "id": "09c1e9b3",
   "metadata": {},
   "outputs": [],
   "source": [
    "my_analyzer.analyze_predicted_RUL_trend()"
   ]
  },
  {
   "cell_type": "code",
   "execution_count": null,
   "id": "b189c20f",
   "metadata": {},
   "outputs": [],
   "source": []
  }
 ],
 "metadata": {
  "kernelspec": {
   "display_name": "Python 3 (ipykernel)",
   "language": "python",
   "name": "python3"
  },
  "language_info": {
   "codemirror_mode": {
    "name": "ipython",
    "version": 3
   },
   "file_extension": ".py",
   "mimetype": "text/x-python",
   "name": "python",
   "nbconvert_exporter": "python",
   "pygments_lexer": "ipython3",
   "version": "3.8.5"
  }
 },
 "nbformat": 4,
 "nbformat_minor": 5
}
