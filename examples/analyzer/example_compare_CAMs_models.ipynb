{
 "cells": [
  {
   "cell_type": "markdown",
   "metadata": {},
   "source": [
    "# Example of CAMs comparison"
   ]
  },
  {
   "cell_type": "markdown",
   "metadata": {},
   "source": [
    "#### package import and variables definition"
   ]
  },
  {
   "cell_type": "code",
   "execution_count": null,
   "metadata": {},
   "outputs": [],
   "source": [
    "import sys\n",
    "sys.path.insert(0, '../../')\n",
    "\n",
    "from odin.classes import TaskType, Metrics, ComparatorCAMs\n",
    "\n",
    "# define the path of the GT .json file\n",
    "dataset_gt_param = \"../../test-data/CAMs/gt_CAMs.json\"\n",
    "\n",
    "# define the path of the CAMs\n",
    "path_to_cams_detections = \"../../test-data/CAMs/predictions\"\n",
    "\n",
    "# Models for the analyses ('model_name', ['cams_path',('predictions_path')])\n",
    "models_props = [('model_A', [\"../../test-data/CAMs/predictions\"]),\n",
    "                ('model_B', [\"../../test-data/CAMs/predictions\"], 0.2)]\n",
    "\n",
    "# define the classification task (CLASSIFICATION_BINARY, CLASSIFICATION_SINGLE_LABEL, CLASSIFICATION_MULTI_LABEL)\n",
    "classification_type = TaskType.CLASSIFICATION_MULTI_LABEL\n",
    "\n",
    "# [OPTIONAL] define the file_name for the meta-annotations\n",
    "properties_file = \"properties_CAMs_comparator.json\""
   ]
  },
  {
   "cell_type": "markdown",
   "metadata": {},
   "source": [
    "### Comparator"
   ]
  },
  {
   "cell_type": "code",
   "execution_count": null,
   "metadata": {},
   "outputs": [],
   "source": [
    "comparator = ComparatorCAMs(dataset_gt_param, \n",
    "                            classification_type, \n",
    "                            models_props,\n",
    "                            metric=Metrics.CAM_GLOBAL_IOU,\n",
    "                            properties_file=properties_file,\n",
    "                            save_graph_as_png=False,\n",
    "                            load_properties=False)"
   ]
  },
  {
   "cell_type": "markdown",
   "metadata": {},
   "source": [
    "#### Overall comparison"
   ]
  },
  {
   "cell_type": "code",
   "execution_count": null,
   "metadata": {},
   "outputs": [],
   "source": [
    "comparator.analyze_cams_threshold()\n",
    "\n",
    "#[OPTIONAL]\n",
    "# eval_metric = Metrics.CAM_IRRELEVANT_ATTENTION\n",
    "\n",
    "# comparator.analyze_cams_threshold(metric=eval_metric)"
   ]
  },
  {
   "cell_type": "code",
   "execution_count": null,
   "metadata": {},
   "outputs": [],
   "source": []
  }
 ],
 "metadata": {
  "kernelspec": {
   "display_name": "Python 3 (ipykernel)",
   "language": "python",
   "name": "python3"
  },
  "language_info": {
   "codemirror_mode": {
    "name": "ipython",
    "version": 3
   },
   "file_extension": ".py",
   "mimetype": "text/x-python",
   "name": "python",
   "nbconvert_exporter": "python",
   "pygments_lexer": "ipython3",
   "version": "3.8.5"
  }
 },
 "nbformat": 4,
 "nbformat_minor": 4
}
