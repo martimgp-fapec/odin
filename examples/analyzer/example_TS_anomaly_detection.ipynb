{
 "cells": [
  {
   "cell_type": "markdown",
   "id": "351e3d5c",
   "metadata": {},
   "source": [
    "# Example of model analysis for anomaly detection"
   ]
  },
  {
   "cell_type": "markdown",
   "id": "f7e92ead",
   "metadata": {},
   "source": [
    "#### package import and variables definition"
   ]
  },
  {
   "cell_type": "code",
   "execution_count": null,
   "id": "885b6e86",
   "metadata": {},
   "outputs": [],
   "source": [
    "import sys\n",
    "sys.path.insert(0, '../../')\n",
    "\n",
    "from odin.classes import TaskType, Metrics\n",
    "from odin.classes.timeseries import DatasetTSAnomalyDetection, TimeSeriesType, TSProposalsType, AnalyzerTSAnomalyDetection"
   ]
  },
  {
   "cell_type": "markdown",
   "id": "658af5ef",
   "metadata": {},
   "source": [
    "## Dataset"
   ]
  },
  {
   "cell_type": "code",
   "execution_count": null,
   "id": "0e00db04",
   "metadata": {},
   "outputs": [],
   "source": [
    "GT_PATH = \"../../test-data/anomaly_detection/gt.csv\"\n",
    "PROPOSALS_PATH = [('LSTM', \"../../test-data/anomaly_detection/predictions.csv\", TSProposalsType.REGRESSION)]\n",
    "\n",
    "my_dataset = DatasetTSAnomalyDetection(GT_PATH,\n",
    "                                       TimeSeriesType.UNIVARIATE,\n",
    "                                       anomalies_path='../../test-data/anomaly_detection/anomalies.json',\n",
    "                                       proposals_paths=PROPOSALS_PATH, \n",
    "                                       index_gt='timestamp', \n",
    "                                       index_proposals='timestamp'\n",
    "                                      )"
   ]
  },
  {
   "cell_type": "markdown",
   "id": "fbae83a8",
   "metadata": {},
   "source": [
    "#### Inspect anomalies"
   ]
  },
  {
   "cell_type": "code",
   "execution_count": null,
   "id": "665f6d8b",
   "metadata": {},
   "outputs": [],
   "source": [
    "my_dataset.get_aggregate_anomalies()"
   ]
  },
  {
   "cell_type": "code",
   "execution_count": null,
   "id": "1243253e",
   "metadata": {},
   "outputs": [],
   "source": [
    "my_dataset.get_anomaly_percentage()"
   ]
  },
  {
   "cell_type": "markdown",
   "id": "23745580",
   "metadata": {},
   "source": [
    "#### Data set analysis"
   ]
  },
  {
   "cell_type": "code",
   "execution_count": null,
   "id": "c5aa4458",
   "metadata": {},
   "outputs": [],
   "source": [
    "my_dataset.analyze_stationarity()"
   ]
  },
  {
   "cell_type": "code",
   "execution_count": null,
   "id": "2b80397d",
   "metadata": {
    "scrolled": false
   },
   "outputs": [],
   "source": [
    "my_dataset.analyze_seasonality_trend(period=24*7*2, model_type='additive')"
   ]
  },
  {
   "cell_type": "markdown",
   "id": "d3ea1257",
   "metadata": {},
   "source": [
    "## Analyzer"
   ]
  },
  {
   "cell_type": "code",
   "execution_count": null,
   "id": "2b265590",
   "metadata": {},
   "outputs": [],
   "source": [
    "my_analyzer = AnalyzerTSAnomalyDetection('LSTM', \n",
    "                                         my_dataset, \n",
    "                                         threshold=1.6, \n",
    "                                         anomaly_evaluation=Metrics.MAE)"
   ]
  },
  {
   "cell_type": "markdown",
   "id": "c7d278b4",
   "metadata": {},
   "source": [
    "### Performance analysis"
   ]
  },
  {
   "cell_type": "code",
   "execution_count": null,
   "id": "a262fca0",
   "metadata": {},
   "outputs": [],
   "source": [
    "my_analyzer.analyze_performance()"
   ]
  },
  {
   "cell_type": "code",
   "execution_count": null,
   "id": "f3a468ad",
   "metadata": {},
   "outputs": [],
   "source": [
    "my_analyzer.analyze_performance_for_threshold()"
   ]
  },
  {
   "cell_type": "code",
   "execution_count": null,
   "id": "b2d5aa89",
   "metadata": {},
   "outputs": [],
   "source": [
    "my_analyzer.show_confusion_matrix()"
   ]
  },
  {
   "cell_type": "code",
   "execution_count": null,
   "id": "8df223d1",
   "metadata": {},
   "outputs": [],
   "source": [
    "my_analyzer.precision_recall_curve()"
   ]
  },
  {
   "cell_type": "markdown",
   "id": "43e03d05",
   "metadata": {},
   "source": [
    "### False Positive errors analysis\n",
    "FP errors are categorized into \"generic\", \"affected\", and \"continuous\", and then their distance distribution from the nearest anomaly is shown."
   ]
  },
  {
   "cell_type": "code",
   "execution_count": null,
   "id": "1b15865c",
   "metadata": {
    "scrolled": false
   },
   "outputs": [],
   "source": [
    "my_analyzer.analyze_false_positive_errors(distance=20, bins=10)"
   ]
  },
  {
   "cell_type": "markdown",
   "id": "56e010cb",
   "metadata": {},
   "source": [
    "### Reliability analysis"
   ]
  },
  {
   "cell_type": "code",
   "execution_count": null,
   "id": "77687e2e",
   "metadata": {},
   "outputs": [],
   "source": [
    "my_analyzer.analyze_reliability(min_threshold=0.5)"
   ]
  },
  {
   "cell_type": "code",
   "execution_count": null,
   "id": "6768377f",
   "metadata": {},
   "outputs": [],
   "source": [
    "my_analyzer.analyze_gain_lift()"
   ]
  },
  {
   "cell_type": "code",
   "execution_count": null,
   "id": "c5e51508",
   "metadata": {},
   "outputs": [],
   "source": []
  }
 ],
 "metadata": {
  "kernelspec": {
   "display_name": "Python 3 (ipykernel)",
   "language": "python",
   "name": "python3"
  },
  "language_info": {
   "codemirror_mode": {
    "name": "ipython",
    "version": 3
   },
   "file_extension": ".py",
   "mimetype": "text/x-python",
   "name": "python",
   "nbconvert_exporter": "python",
   "pygments_lexer": "ipython3",
   "version": "3.8.5"
  }
 },
 "nbformat": 4,
 "nbformat_minor": 5
}
