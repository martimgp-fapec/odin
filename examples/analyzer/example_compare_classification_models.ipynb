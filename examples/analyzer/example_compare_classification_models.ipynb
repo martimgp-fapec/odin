{
 "cells": [
  {
   "cell_type": "markdown",
   "metadata": {},
   "source": [
    "# Example of Classification models comparison"
   ]
  },
  {
   "cell_type": "code",
   "execution_count": null,
   "metadata": {
    "scrolled": false
   },
   "outputs": [],
   "source": [
    "from odin.classes import TaskType, Metrics, Curves, ComparatorClassification\n",
    "\n",
    "dataset_gt_param = \"../../test-data/classification-ml/gt_art.json\"\n",
    "\n",
    "classification_type = TaskType.CLASSIFICATION_MULTI_LABEL\n",
    "\n",
    "# Models for the analyses ('model_name', 'predictions_path', ['threshold_value'])\n",
    "models_props = [('model_A', \"../../test-data/classification-ml/predictions\", 0.1),\n",
    "                ('model_B', \"../../test-data/classification-ml/predictions\", 0.9),\n",
    "               ('model_C', \"../../test-data/classification-ml/predictions\")]\n",
    "\n",
    "similar_classes=[[1, 4, 7], [2, 6, 10], [5, 8], [3, 6, 9]]\n",
    "\n",
    "comparator = ComparatorClassification(dataset_gt_param, classification_type, models_props, save_graph_as_png=False, similar_classes=similar_classes)\n"
   ]
  },
  {
   "cell_type": "markdown",
   "metadata": {},
   "source": [
    "#### Per-property performance comparison"
   ]
  },
  {
   "cell_type": "code",
   "execution_count": null,
   "metadata": {
    "scrolled": true
   },
   "outputs": [],
   "source": [
    "comparator.analyze_property(\"color\")\n",
    "# comparator.analyze_property(\"source\", possible_values=['wikiart', 'prado', 'met'], categories=[\"Paul\", \"Peter\"], metric=Metrics.AVERAGE_PRECISION_SCORE)"
   ]
  },
  {
   "cell_type": "code",
   "execution_count": null,
   "metadata": {},
   "outputs": [],
   "source": [
    "comparator.analyze_sensitivity_impact_of_properties()\n",
    "\n",
    "# comparator.analyze_sensitivity_impact_of_properties(properties=['characters', 'color'], metric=Metrics.PRECISION_SCORE)"
   ]
  },
  {
   "cell_type": "markdown",
   "metadata": {},
   "source": [
    "#### Curve comparison"
   ]
  },
  {
   "cell_type": "code",
   "execution_count": null,
   "metadata": {},
   "outputs": [],
   "source": [
    "comparator.analyze_curve(average=\"micro\")\n",
    "\n",
    "# comparator.analyze_curve(curve=Curves.ROC_CURVE, average=\"macro\")"
   ]
  },
  {
   "cell_type": "code",
   "execution_count": null,
   "metadata": {},
   "outputs": [],
   "source": [
    "comparator.analyze_curve_for_categories()\n",
    "\n",
    "# comparator.analyze_curve_for_categories(categories=[\"Paul\", \"Peter\"], curve=Curves.ROC_CURVE)"
   ]
  },
  {
   "cell_type": "markdown",
   "metadata": {},
   "source": [
    "#### Distribution comparison"
   ]
  },
  {
   "cell_type": "code",
   "execution_count": null,
   "metadata": {},
   "outputs": [],
   "source": [
    "comparator.show_true_positive_distribution()\n",
    "#comparator.show_true_positive_distribution(categories=['Paul', 'Peter'])"
   ]
  },
  {
   "cell_type": "code",
   "execution_count": null,
   "metadata": {},
   "outputs": [],
   "source": [
    "comparator.show_false_positive_distribution()\n",
    "#comparator.show_false_positive_distribution(categories=['Paul', 'Peter'])"
   ]
  },
  {
   "cell_type": "code",
   "execution_count": null,
   "metadata": {},
   "outputs": [],
   "source": [
    "comparator.show_false_negative_distribution()\n",
    "#comparator.show_false_negative_distribution(categories=['Paul', 'Peter'])"
   ]
  },
  {
   "cell_type": "code",
   "execution_count": null,
   "metadata": {},
   "outputs": [],
   "source": [
    "comparator.show_true_negative_distribution()\n",
    "#comparator.show_true_negative_distribution(categories=['Paul', 'Peter'])"
   ]
  },
  {
   "cell_type": "code",
   "execution_count": null,
   "metadata": {},
   "outputs": [],
   "source": [
    "comparator.show_true_positive_distribution_for_categories_for_property('color')"
   ]
  },
  {
   "cell_type": "code",
   "execution_count": null,
   "metadata": {},
   "outputs": [],
   "source": [
    "comparator.show_true_negative_distribution_for_categories_for_property('color')"
   ]
  },
  {
   "cell_type": "code",
   "execution_count": null,
   "metadata": {},
   "outputs": [],
   "source": [
    "comparator.show_false_negative_distribution_for_categories_for_property('color')"
   ]
  },
  {
   "cell_type": "code",
   "execution_count": null,
   "metadata": {},
   "outputs": [],
   "source": [
    "comparator.show_false_positive_distribution_for_categories_for_property('color')"
   ]
  },
  {
   "cell_type": "markdown",
   "metadata": {},
   "source": [
    "#### False Positive Error categorization & impact comparison"
   ]
  },
  {
   "cell_type": "code",
   "execution_count": null,
   "metadata": {},
   "outputs": [],
   "source": [
    "comparator.analyze_false_positive_errors()\n",
    "#comparator.analyze_false_positive_errors(categories=['Paul', 'Peter'], metric=Metrics.AVERAGE_PRECISION_SCORE)"
   ]
  },
  {
   "cell_type": "markdown",
   "metadata": {},
   "source": [
    "#### False Negative Error categorization"
   ]
  },
  {
   "cell_type": "code",
   "execution_count": null,
   "metadata": {
    "scrolled": true
   },
   "outputs": [],
   "source": [
    "comparator.analyze_false_negative_errors()"
   ]
  },
  {
   "cell_type": "markdown",
   "metadata": {},
   "source": [
    "#### Base report comparison"
   ]
  },
  {
   "cell_type": "code",
   "execution_count": null,
   "metadata": {
    "scrolled": true
   },
   "outputs": [],
   "source": [
    "comparator.base_report()\n",
    "\n",
    "# [OPTIONAL] define specific evaluation metrics to be included in the report\n",
    "# eval_metrics = [Metrics.ACCURACY, Metrics.F1_SCORE]\n",
    "\n",
    "# [OPTIONAL] define specific categories to be included in the report\n",
    "# categories = ['Paul', 'Peter']\n",
    "\n",
    "# [OPTIONAL] define specific meta-annotations to be included in the report\n",
    "# meta_annotations = ['characters', 'color']\n",
    "\n",
    "# [OPTIONAL] do not include categories and/or meta-annotations in the report\n",
    "# show_categories = True\n",
    "# show_meta_annotations = True\n",
    "\n",
    "# comparator.base_report(metrics=eval_metrics, categories=categories, properties=meta_annotations, show_categories=show_categories, show_properties=show_meta_annotations)"
   ]
  },
  {
   "cell_type": "code",
   "execution_count": null,
   "metadata": {},
   "outputs": [],
   "source": []
  }
 ],
 "metadata": {
  "kernelspec": {
   "display_name": "Python 3 (ipykernel)",
   "language": "python",
   "name": "python3"
  },
  "language_info": {
   "codemirror_mode": {
    "name": "ipython",
    "version": 3
   },
   "file_extension": ".py",
   "mimetype": "text/x-python",
   "name": "python",
   "nbconvert_exporter": "python",
   "pygments_lexer": "ipython3",
   "version": "3.8.5"
  }
 },
 "nbformat": 4,
 "nbformat_minor": 4
}
