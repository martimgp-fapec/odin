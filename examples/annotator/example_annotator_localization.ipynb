{
 "cells": [
  {
   "cell_type": "markdown",
   "metadata": {},
   "source": [
    "# Example Annotator - Localization"
   ]
  },
  {
   "cell_type": "markdown",
   "metadata": {},
   "source": [
    "This notebook contains example of how to use the visualizator in the following three cases:\n",
    "\n",
    "1) **Dataset creation**: Create a new dataset with only categories annotations\n",
    "<br>\n",
    "Requires only the observations list\n",
    "\n",
    "\n",
    "2) **Add meta-annotations to existing dataset**: Add meta-annotations to an existing dataset\n",
    "<br>\n",
    "Requires the dataset (use the one created at point 1) and the meta-annotations\n",
    "\n",
    "\n",
    "3) **Dataset creation with categories annotations and meta-annotations**: Create a new dataset with categories annotations and meta-annotations\n",
    "<br>\n",
    "Requires the observations list and the meta-annotations"
   ]
  },
  {
   "cell_type": "markdown",
   "metadata": {},
   "source": [
    "## 1) Dataset creation"
   ]
  },
  {
   "cell_type": "code",
   "execution_count": null,
   "metadata": {},
   "outputs": [],
   "source": [
    "%matplotlib inline\n",
    "images_path = \"../../test-data/annotator_example/images\"\n",
    "images_extension = \".jpg\"\n",
    "\n",
    "output_path = \"./\"\n",
    "\n",
    "classes = [\"Anthony of Padua\",  \"Virgin Mary\", \"Mary Magdalena\", 'John Baptist - Adult', 'Francis of Assisi', 'Paul', 'Peter',\n",
    "           'Jerome', 'Saint Sebastian', 'Saint Dominic']"
   ]
  },
  {
   "cell_type": "code",
   "execution_count": null,
   "metadata": {},
   "outputs": [],
   "source": [
    "import sys\n",
    "sys.path.insert(0, \"../../\")\n",
    "from odin.classes import TaskType\n",
    "from odin.annotator import ImagesLoader, MetaPropertiesType\n",
    "from odin.annotator import AnnotatorLocalization\n",
    "\n",
    "# task_type = TaskType.INSTANCE_SEGMENTATION\n",
    "task_type = TaskType.OBJECT_DETECTION\n",
    "output_name = \"NEW_artdl_localization_creation\"\n",
    "\n",
    "# This simple generates a list of images paths, could be generated in a different way\n",
    "images = ImagesLoader(images_path, images_extension).get_images_array()"
   ]
  },
  {
   "cell_type": "code",
   "execution_count": null,
   "metadata": {},
   "outputs": [],
   "source": [
    "ds_generator = AnnotatorLocalization(task_type=task_type,\n",
    "                                images=images,\n",
    "                                classes_to_annotate=classes,\n",
    "                                output_path=output_path,\n",
    "                                ds_name=output_name)"
   ]
  },
  {
   "cell_type": "code",
   "execution_count": null,
   "metadata": {},
   "outputs": [],
   "source": [
    "ds_generator.start_annotation()"
   ]
  },
  {
   "cell_type": "markdown",
   "metadata": {},
   "source": [
    "## 2) Add meta-annotations to existing dataset"
   ]
  },
  {
   "cell_type": "code",
   "execution_count": null,
   "metadata": {},
   "outputs": [],
   "source": [
    "from odin.classes import DatasetLocalization\n",
    "\n",
    "\n",
    "dataset_gt_param = \"./NEW_artdl_localization_creation.json\" # Your file gt file goes here\n",
    "images_path = \"../../test-data/annotator_example/images\" # Your images folder goes here\n",
    "\n",
    "# task_type = TaskType.INSTANCE_SEGMENTATION\n",
    "task_type = TaskType.OBJECT_DETECTION\n",
    "\n",
    "my_dataset = DatasetLocalization(dataset_gt_param, task_type,\n",
    "                          images_abs_path=images_path, for_analysis=False)\n"
   ]
  },
  {
   "cell_type": "code",
   "execution_count": null,
   "metadata": {},
   "outputs": [],
   "source": [
    "properties = {\"fullbody\": (MetaPropertiesType.UNIQUE, [\"Yes\", \"No\"]),\n",
    "             \"difficult\": (MetaPropertiesType.UNIQUE, [\"Yes\", \"No\"])}\n",
    "\n",
    "def validate_function(img_record):\n",
    "    return 'difficult' in img_record and 'fullbody' in img_record"
   ]
  },
  {
   "cell_type": "code",
   "execution_count": null,
   "metadata": {},
   "outputs": [],
   "source": [
    "ds_generator = AnnotatorLocalization(dataset=my_dataset,\n",
    "                                properties_and_values=properties,\n",
    "                                validate_function=validate_function)"
   ]
  },
  {
   "cell_type": "code",
   "execution_count": null,
   "metadata": {},
   "outputs": [],
   "source": [
    "ds_generator.start_annotation()"
   ]
  },
  {
   "cell_type": "code",
   "execution_count": null,
   "metadata": {
    "scrolled": true
   },
   "outputs": [],
   "source": [
    "ds_generator.print_statistics()"
   ]
  },
  {
   "cell_type": "code",
   "execution_count": null,
   "metadata": {},
   "outputs": [],
   "source": [
    "ds_generator.print_results()"
   ]
  },
  {
   "cell_type": "markdown",
   "metadata": {},
   "source": [
    "## 3) Dataset creation with categories annotations and meta-annotations"
   ]
  },
  {
   "cell_type": "code",
   "execution_count": null,
   "metadata": {},
   "outputs": [],
   "source": [
    "%matplotlib inline\n",
    "images_path = \"../../test-data/annotator_example/images\"\n",
    "images_extension = \".jpg\"\n",
    "\n",
    "output_path = \"./\"\n",
    "\n",
    "classes = [\"Anthony of Padua\",  \"Virgin Mary\", \"Mary Magdalena\", 'John Baptist - Adult', 'Francis of Assisi', 'Paul', 'Peter',\n",
    "           'Jerome', 'Saint Sebastian', 'Saint Dominic']"
   ]
  },
  {
   "cell_type": "code",
   "execution_count": null,
   "metadata": {},
   "outputs": [],
   "source": [
    "import sys\n",
    "sys.path.insert(0, \"../../\")\n",
    "from odin.classes import TaskType\n",
    "from odin.annotator import ImagesLoader, MetaPropertiesType\n",
    "from odin.annotator import AnnotatorLocalization\n",
    "\n",
    "task_type = TaskType.INSTANCE_SEGMENTATION\n",
    "output_name = \"NEW_artdl_localization_is_creation+annotations\"\n",
    "\n",
    "# task_type = TaskType.OBJECT_DETECTION\n",
    "# output_name = \"NEW_artdl_localization_od_creation+annotations\"\n",
    "\n",
    "# This simple generates a list of images paths, could be generated in a different way\n",
    "images = ImagesLoader(images_path, images_extension).get_images_array()\n"
   ]
  },
  {
   "cell_type": "code",
   "execution_count": null,
   "metadata": {},
   "outputs": [],
   "source": [
    "properties = {\"fullbody\": (MetaPropertiesType.UNIQUE, [\"Yes\", \"No\"]),\n",
    "             \"difficult\": (MetaPropertiesType.UNIQUE, [\"Yes\", \"No\"])}"
   ]
  },
  {
   "cell_type": "code",
   "execution_count": null,
   "metadata": {},
   "outputs": [],
   "source": [
    "ds_generator = AnnotatorLocalization(task_type=task_type,\n",
    "                                images=images,\n",
    "                                classes_to_annotate=classes,\n",
    "                                output_path=output_path,\n",
    "                                ds_name=output_name,\n",
    "                                properties_and_values=properties)"
   ]
  },
  {
   "cell_type": "code",
   "execution_count": null,
   "metadata": {},
   "outputs": [],
   "source": [
    "ds_generator.start_annotation()"
   ]
  },
  {
   "cell_type": "code",
   "execution_count": null,
   "metadata": {},
   "outputs": [],
   "source": []
  },
  {
   "cell_type": "code",
   "execution_count": null,
   "metadata": {},
   "outputs": [],
   "source": []
  }
 ],
 "metadata": {
  "kernelspec": {
   "display_name": "Python 3 (ipykernel)",
   "language": "python",
   "name": "python3"
  },
  "language_info": {
   "codemirror_mode": {
    "name": "ipython",
    "version": 3
   },
   "file_extension": ".py",
   "mimetype": "text/x-python",
   "name": "python",
   "nbconvert_exporter": "python",
   "pygments_lexer": "ipython3",
   "version": "3.8.5"
  }
 },
 "nbformat": 4,
 "nbformat_minor": 4
}
