{
 "cells": [
  {
   "cell_type": "markdown",
   "metadata": {},
   "source": [
    "# Example Annotator - Classification"
   ]
  },
  {
   "cell_type": "markdown",
   "metadata": {},
   "source": [
    "This notebook contains example of how to use the visualizator in the following four cases:\n",
    "\n",
    "1) **Dataset creation - no images**: Create a new generic dataset with only categories annotations\n",
    "<br>\n",
    "Requires the observations list and a custom display function\n",
    "\n",
    "\n",
    "2) **Dataset creation**: Create a new dataset with only categories annotations\n",
    "<br>\n",
    "Requires only the observations list\n",
    "\n",
    "\n",
    "3) **Add meta-annotations to existing dataset**: Add meta-annotations to an existing dataset\n",
    "<br>\n",
    "Requires the dataset (use the one created at point 2) and the meta-annotations\n",
    "\n",
    "\n",
    "4) **Dataset creation with categories annotations and meta-annotations**: Create a new dataset with categories annotations and meta-annotations\n",
    "<br>\n",
    "Requires the observations list and the meta-annotations\n",
    "\n"
   ]
  },
  {
   "cell_type": "markdown",
   "metadata": {},
   "source": [
    "## 1) Dataset creation - no images"
   ]
  },
  {
   "cell_type": "code",
   "execution_count": null,
   "metadata": {},
   "outputs": [],
   "source": [
    "observations_path = \"../../test-data/classification-spam/SMSSpamCollection.txt\"\n",
    "observations = []\n",
    "with open(observations_path) as file:\n",
    "    for line in file:\n",
    "        _, sms = line.split(\"\\t\")\n",
    "        observations.append(sms)"
   ]
  },
  {
   "cell_type": "code",
   "execution_count": null,
   "metadata": {},
   "outputs": [],
   "source": [
    "from odin.classes import TaskType\n",
    "from odin.annotator import ImagesLoader, MetaPropertiesType\n",
    "from odin.annotator import AnnotatorClassification\n",
    "\n",
    "\n",
    "output_path = \"./\"\n",
    "output_name = \"sms_spams\"\n",
    "\n",
    "task_type = TaskType.CLASSIFICATION_SINGLE_LABEL\n",
    "classes = [\"spam\", \"legitimate\"]"
   ]
  },
  {
   "cell_type": "code",
   "execution_count": null,
   "metadata": {},
   "outputs": [],
   "source": [
    "# We need to specify what we will show\n",
    "def custom_display_function(record):\n",
    "    print(record[\"observation\"])\n",
    "\n",
    "ds_generator = AnnotatorClassification(task_type=task_type,\n",
    "                                              observations=observations,\n",
    "                                              output_path=output_path,\n",
    "                                              classes_to_annotate=classes,\n",
    "                                              ds_name=output_name,\n",
    "                                              is_image=False,\n",
    "                                              custom_display_function=custom_display_function)\n"
   ]
  },
  {
   "cell_type": "code",
   "execution_count": null,
   "metadata": {},
   "outputs": [],
   "source": [
    "ds_generator.start_classification()"
   ]
  },
  {
   "cell_type": "code",
   "execution_count": null,
   "metadata": {},
   "outputs": [],
   "source": [
    "ds_generator.print_statistics()"
   ]
  },
  {
   "cell_type": "markdown",
   "metadata": {},
   "source": [
    "## 2) Dataset creation"
   ]
  },
  {
   "cell_type": "code",
   "execution_count": null,
   "metadata": {},
   "outputs": [],
   "source": [
    "%matplotlib inline\n",
    "images_path = \"../../test-data/annotator_example/images\"\n",
    "images_extension = \".jpg\"\n",
    "\n",
    "output_path = \"./\"\n",
    "\n",
    "classes = [\"Anthony of Padua\",  \"Virgin Mary\", \"Mary Magdalena\", 'John Baptist - Adult', 'Francis of Assisi', 'Paul', 'Peter',\n",
    "           'Jerome', 'Saint Sebastian', 'Saint Dominic']"
   ]
  },
  {
   "cell_type": "code",
   "execution_count": null,
   "metadata": {},
   "outputs": [],
   "source": [
    "from odin.classes import TaskType\n",
    "from odin.annotator import ImagesLoader, MetaPropertiesType\n",
    "from odin.annotator import AnnotatorClassification\n",
    "\n",
    "task_type = TaskType.CLASSIFICATION_MULTI_LABEL\n",
    "output_name = \"NEW_artdl_classification_creation\"\n",
    "\n",
    "# This simple generates a list of images paths, could be generated in a different way\n",
    "images = ImagesLoader(images_path, images_extension).get_images_array()"
   ]
  },
  {
   "cell_type": "code",
   "execution_count": null,
   "metadata": {},
   "outputs": [],
   "source": [
    "ds_generator = AnnotatorClassification(\n",
    "                                task_type=task_type,\n",
    "                                observations=images,\n",
    "                                classes_to_annotate=classes,\n",
    "                                output_path=output_path,\n",
    "                                ds_name=output_name)"
   ]
  },
  {
   "cell_type": "code",
   "execution_count": null,
   "metadata": {},
   "outputs": [],
   "source": [
    "ds_generator.start_classification()"
   ]
  },
  {
   "cell_type": "code",
   "execution_count": null,
   "metadata": {
    "scrolled": true
   },
   "outputs": [],
   "source": [
    "ds_generator.print_statistics()"
   ]
  },
  {
   "cell_type": "markdown",
   "metadata": {},
   "source": [
    "## 3) Add meta-annotations to existing dataset"
   ]
  },
  {
   "cell_type": "code",
   "execution_count": null,
   "metadata": {},
   "outputs": [],
   "source": [
    "from odin.classes import DatasetClassification\n",
    "\n",
    "dataset_gt_param = \"./NEW_artdl_classification_creation.json\"\n",
    "images_path = \"../../test-data/annotator_example/images/\"\n",
    "\n",
    "classification_type = TaskType.CLASSIFICATION_MULTI_LABEL\n",
    "\n",
    "\n",
    "my_dataset = DatasetClassification(dataset_gt_param,\n",
    "                                   classification_type, observations_abs_path=images_path,\n",
    "                                  for_analysis=False)"
   ]
  },
  {
   "cell_type": "code",
   "execution_count": null,
   "metadata": {},
   "outputs": [],
   "source": [
    "properties = {\"Color\": (MetaPropertiesType.UNIQUE, [\"rgb\", \"bw\"]),\n",
    "              # This are momentarely deactivated until we provide support with the analyzer\n",
    "              #\"Medium\": (MetaPropertiesType.COMPOUND, [\"Paper\", \"Wood\", \"Canvas\", \"Stone\", \"Clay\"]),\n",
    "             #\"Painter\": (MetaPropertiesType.TEXT,),\n",
    "             #\"Characters\":(MetaPropertiesType.CONTINUE, [0, 30])\n",
    "             }\n",
    "\n",
    "def validate_function(img_record):\n",
    "    return 'Color' in img_record"
   ]
  },
  {
   "cell_type": "code",
   "execution_count": null,
   "metadata": {},
   "outputs": [],
   "source": [
    "ds_generator = AnnotatorClassification(dataset=my_dataset,\n",
    "                                properties_and_values=properties,\n",
    "                                validate_function=validate_function)"
   ]
  },
  {
   "cell_type": "code",
   "execution_count": null,
   "metadata": {},
   "outputs": [],
   "source": [
    "ds_generator.start_classification()"
   ]
  },
  {
   "cell_type": "code",
   "execution_count": null,
   "metadata": {
    "scrolled": true
   },
   "outputs": [],
   "source": [
    "ds_generator.print_statistics()"
   ]
  },
  {
   "cell_type": "code",
   "execution_count": null,
   "metadata": {},
   "outputs": [],
   "source": [
    "ds_generator.print_results()"
   ]
  },
  {
   "cell_type": "markdown",
   "metadata": {},
   "source": [
    "## 4) Dataset creation with categories annotations and meta-annotations"
   ]
  },
  {
   "cell_type": "code",
   "execution_count": null,
   "metadata": {},
   "outputs": [],
   "source": [
    "%matplotlib inline\n",
    "images_path = \"../../test-data/annotator_example/images\"\n",
    "images_extension = \".jpg\"\n",
    "\n",
    "output_path = \"./\"\n",
    "\n",
    "classes = [\"Anthony of Padua\",  \"Virgin Mary\", \"Mary Magdalena\", 'John Baptist - Adult', 'Francis of Assisi', 'Paul', 'Peter',\n",
    "           'Jerome', 'Saint Sebastian', 'Saint Dominic']"
   ]
  },
  {
   "cell_type": "code",
   "execution_count": null,
   "metadata": {},
   "outputs": [],
   "source": [
    "from odin.classes import TaskType\n",
    "from odin.annotator import ImagesLoader, MetaPropertiesType\n",
    "from odin.annotator import AnnotatorClassification\n",
    "\n",
    "task_type = TaskType.CLASSIFICATION_MULTI_LABEL\n",
    "output_name = \"NEW_artdl_classification_creation+annotations\"\n",
    "\n",
    "# This simple generates a list of images paths, could be generated in a different way\n",
    "images = ImagesLoader(images_path, images_extension).get_images_array()"
   ]
  },
  {
   "cell_type": "code",
   "execution_count": null,
   "metadata": {},
   "outputs": [],
   "source": [
    "properties = {\"Color\": (MetaPropertiesType.UNIQUE, [\"rgb\", \"bw\"]),\n",
    "              # This are momentarely deactivated until we provide support with the analyzer\n",
    "              #\"Medium\": (MetaPropertiesType.COMPOUND, [\"Paper\", \"Wood\", \"Canvas\", \"Stone\", \"Clay\"]),\n",
    "             #\"Painter\": (MetaPropertiesType.TEXT,),\n",
    "             #\"Characters\":(MetaPropertiesType.CONTINUE, [0, 30])\n",
    "             }"
   ]
  },
  {
   "cell_type": "code",
   "execution_count": null,
   "metadata": {},
   "outputs": [],
   "source": [
    "ds_generator = AnnotatorClassification(\n",
    "                                task_type=task_type,\n",
    "                                observations=images,\n",
    "                                classes_to_annotate=classes,\n",
    "                                output_path=output_path,\n",
    "                                ds_name=output_name,\n",
    "                                properties_and_values=properties)"
   ]
  },
  {
   "cell_type": "code",
   "execution_count": null,
   "metadata": {},
   "outputs": [],
   "source": [
    "ds_generator.start_classification()"
   ]
  },
  {
   "cell_type": "code",
   "execution_count": null,
   "metadata": {},
   "outputs": [],
   "source": [
    "ds_generator.print_statistics()"
   ]
  },
  {
   "cell_type": "code",
   "execution_count": null,
   "metadata": {},
   "outputs": [],
   "source": []
  }
 ],
 "metadata": {
  "interpreter": {
   "hash": "4d95b2a5e6affe68956d71863dd07551b117290dd23dafc27bfe660a6fe9dc6c"
  },
  "kernelspec": {
   "display_name": "Python 3.8.5 ('venv': venv)",
   "language": "python",
   "name": "python3"
  },
  "language_info": {
   "codemirror_mode": {
    "name": "ipython",
    "version": 3
   },
   "file_extension": ".py",
   "mimetype": "text/x-python",
   "name": "python",
   "nbconvert_exporter": "python",
   "pygments_lexer": "ipython3",
   "version": "3.8.5"
  }
 },
 "nbformat": 4,
 "nbformat_minor": 4
}
