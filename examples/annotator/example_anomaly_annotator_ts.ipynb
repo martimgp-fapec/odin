{
 "cells": [
  {
   "cell_type": "markdown",
   "metadata": {},
   "source": [
    "# Annotator - Anomalies in time series"
   ]
  },
  {
   "cell_type": "markdown",
   "metadata": {},
   "source": [
    "## Annotation"
   ]
  },
  {
   "cell_type": "markdown",
   "metadata": {},
   "source": [
    "### Import the classes "
   ]
  },
  {
   "cell_type": "code",
   "execution_count": null,
   "metadata": {},
   "outputs": [],
   "source": [
    "from odin.annotator import AnomalyAnnotator, MetaPropertiesType\n",
    "from odin.classes.timeseries.annotations_agreement import AnnotationAgreement\n",
    "\n",
    "from odin.classes import TaskType\n",
    "\n",
    "from odin.classes.timeseries import StandardScaler\n",
    "from odin.classes.timeseries.anomaly_definition_strategies import AnomalyDefinitionStrategyTSAE\n",
    "\n",
    "from odin.classes.timeseries import DatasetTSAnomalyDetection, TimeSeriesType, TSProposalsType, AnalyzerTSAnomalyDetection"
   ]
  },
  {
   "cell_type": "markdown",
   "metadata": {},
   "source": [
    "### Define the relevant dataset paths"
   ]
  },
  {
   "cell_type": "code",
   "execution_count": null,
   "metadata": {},
   "outputs": [],
   "source": [
    "GT_PATH = \"../../test-data/anomaly_detection/gt.csv\"\n",
    "PROPOSALS_PATH = [('LSTM', \"../../test-data/anomaly_detection/predictions.csv\", TSProposalsType.REGRESSION)]\n",
    "anomalies_path = '../../test-data/anomaly_detection/extended_anomalies.json'"
   ]
  },
  {
   "cell_type": "markdown",
   "metadata": {},
   "source": [
    "### Define the dataset "
   ]
  },
  {
   "cell_type": "code",
   "execution_count": null,
   "metadata": {},
   "outputs": [],
   "source": [
    "my_dataset = DatasetTSAnomalyDetection(GT_PATH,\n",
    "                                       TimeSeriesType.UNIVARIATE,\n",
    "                                       anomalies_path=anomalies_path,\n",
    "                                       proposals_paths=PROPOSALS_PATH, \n",
    "                                       index_gt='timestamp', \n",
    "                                       index_proposals='timestamp',\n",
    "                                       scaler=None\n",
    "                                      )"
   ]
  },
  {
   "cell_type": "markdown",
   "metadata": {},
   "source": [
    "### Define the relevant annotation paths "
   ]
  },
  {
   "cell_type": "code",
   "execution_count": null,
   "metadata": {},
   "outputs": [],
   "source": [
    "anomalies_path = \"../../test-data/anomaly_detection/userA_anomalies.json\"\n",
    "metaproperties_path = \"../../test-data/anomaly_detection/userA_metaproperties.csv\"\n",
    "task_type = TaskType.TS_ANOMALY_DETECTION\n",
    "output_name = \"AnomalyDetectionExample\" # name of the output anomalies file, that will be saved in the same path as anomalies_path"
   ]
  },
  {
   "cell_type": "markdown",
   "metadata": {},
   "source": [
    "### Define the properties to annotate, their types and their values "
   ]
  },
  {
   "cell_type": "code",
   "execution_count": null,
   "metadata": {},
   "outputs": [],
   "source": [
    "properties = {\"Duration3\": (MetaPropertiesType.UNIQUE, [\"Long\", \"Medium\", \"Short\"]),\n",
    "              \"Type\": (MetaPropertiesType.UNIQUE, [\"Unknown\", \"Sudden spike\"]),\n",
    "              # This are momentarely deactivated until we provide support with the analyzer\n",
    "              #\"Medium\": (MetaPropertiesType.COMPOUND, [\"Paper\", \"Wood\", \"Canvas\", \"Stone\", \"Clay\"]),\n",
    "             #\"Painter\": (MetaPropertiesType.TEXT,),\n",
    "             #\"Characters\":(MetaPropertiesType.CONTINUE, [0, 30])\n",
    "             }"
   ]
  },
  {
   "cell_type": "markdown",
   "metadata": {},
   "source": [
    "### Define the annotator "
   ]
  },
  {
   "cell_type": "code",
   "execution_count": null,
   "metadata": {},
   "outputs": [],
   "source": [
    "ds_generator = AnomalyAnnotator(dataset = my_dataset,\n",
    "                                task_type=task_type,\n",
    "                                anomaly_types=[],\n",
    "                                anomaly_path=anomalies_path,\n",
    "                                properties_and_values = properties,\n",
    "                                ds_name=output_name,\n",
    "                                metaproperties_path = metaproperties_path)"
   ]
  },
  {
   "cell_type": "markdown",
   "metadata": {},
   "source": [
    "### Annotate the data "
   ]
  },
  {
   "cell_type": "code",
   "execution_count": null,
   "metadata": {
    "scrolled": false
   },
   "outputs": [],
   "source": [
    "ds_generator.start_annotation(\"value\")"
   ]
  },
  {
   "cell_type": "markdown",
   "metadata": {},
   "source": [
    "## Inter-annotator agreement \n",
    "### Define the annotators' files"
   ]
  },
  {
   "cell_type": "code",
   "execution_count": null,
   "metadata": {},
   "outputs": [],
   "source": [
    "agreement = AnnotationAgreement(my_dataset, \"timestamp\", \"value\", \n",
    "                                [(\"../../test-data/anomaly_detection/userA_anomalies.json\", \"A1\"),\n",
    "                                (\"../../test-data/anomaly_detection/userB_anomalies.json\", \"A2\"),\n",
    "                                (\"../../test-data/anomaly_detection/userC_anomalies.json\", \"A3\")])"
   ]
  },
  {
   "cell_type": "markdown",
   "metadata": {},
   "source": [
    "### Show the number of annotated anomalies per annotator"
   ]
  },
  {
   "cell_type": "code",
   "execution_count": null,
   "metadata": {},
   "outputs": [],
   "source": [
    "agreement.show_anomalies_annotated()"
   ]
  },
  {
   "cell_type": "markdown",
   "metadata": {},
   "source": [
    "### Compute the agreement between couples of annotators "
   ]
  },
  {
   "cell_type": "code",
   "execution_count": null,
   "metadata": {},
   "outputs": [],
   "source": [
    "v = agreement.calculate_iou_agreement()"
   ]
  },
  {
   "cell_type": "markdown",
   "metadata": {},
   "source": [
    "### Display congruent anomalies (i.e., the ones on which there is agreement between the annotators) "
   ]
  },
  {
   "cell_type": "code",
   "execution_count": null,
   "metadata": {},
   "outputs": [],
   "source": [
    "anomalies = agreement.get_congruent_anomalies(agreement_threshold=20)\n",
    "anomalies"
   ]
  },
  {
   "cell_type": "markdown",
   "metadata": {},
   "source": [
    "### Export the annotated anomalies for which there is an agreement "
   ]
  },
  {
   "cell_type": "code",
   "execution_count": null,
   "metadata": {},
   "outputs": [],
   "source": [
    "anomalies.to_csv(\"./anomalies_recap.csv\", index=False)"
   ]
  },
  {
   "cell_type": "code",
   "execution_count": null,
   "metadata": {},
   "outputs": [],
   "source": []
  }
 ],
 "metadata": {
  "kernelspec": {
   "display_name": "Python 3 (ipykernel)",
   "language": "python",
   "name": "python3"
  },
  "language_info": {
   "codemirror_mode": {
    "name": "ipython",
    "version": 3
   },
   "file_extension": ".py",
   "mimetype": "text/x-python",
   "name": "python",
   "nbconvert_exporter": "python",
   "pygments_lexer": "ipython3",
   "version": "3.8.5"
  }
 },
 "nbformat": 4,
 "nbformat_minor": 4
}
